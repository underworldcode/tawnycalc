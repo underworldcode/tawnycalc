{
 "cells": [
  {
   "cell_type": "markdown",
   "metadata": {},
   "source": [
    "In this simple example we configure our `thermocalc` \n",
    "model entirely from the script without utilising \n",
    "configuration files. \n",
    "\n",
    "We walk through various features of the `tawnycalc` \n",
    "configuration, execution, and data extraction. "
   ]
  },
  {
   "cell_type": "code",
   "execution_count": 1,
   "metadata": {},
   "outputs": [],
   "source": [
    "import tawnycalc as tc"
   ]
  },
  {
   "cell_type": "code",
   "execution_count": 2,
   "metadata": {},
   "outputs": [
    {
     "name": "stdout",
     "output_type": "stream",
     "text": [
      "calcmode   : 1\n",
      "scriptfile : zundrw\n",
      "dataset    : None\n"
     ]
    }
   ],
   "source": [
    "# To start with a clean context, set `scripts_dir=None`\n",
    "context = tc.Context(scripts_dir=None)\n",
    "context.print_prefs()"
   ]
  },
  {
   "cell_type": "code",
   "execution_count": 3,
   "metadata": {},
   "outputs": [],
   "source": [
    "# Set the required dataset on the `prefs` dictionary.\n",
    "context.prefs[\"dataset\"] = 62"
   ]
  },
  {
   "cell_type": "code",
   "execution_count": 4,
   "metadata": {
    "scrolled": false
   },
   "outputs": [
    {
     "name": "stdout",
     "output_type": "stream",
     "text": [
      "Help on property:\n",
      "\n",
      "    The `script` dictionary contains your `thermocalc` model configuration. \n",
      "    This dictionary will be populated with the data from your `thermocalc` \n",
      "    scripts where the `scripts_dir` parameter is passed when constructing\n",
      "    your `Context`.  Otherwise it will be empty and you will be required \n",
      "    to sufficiently populate it.  In either case, you may add, modify and\n",
      "    delete values as necessary before calling `execute`. \n",
      "    \n",
      "    Key/Value pairs will be directly printed to form standard `thermocalc`\n",
      "    input.  For example \n",
      "    \n",
      "    >>> context.script[       \"axfile\"] = \"mb50NCKFMASHTO\"\n",
      "    >>> context.script[        \"which\"] = \"chl bi pa ep ru chl g ilm sph\"\n",
      "    >>> context.script[     \"inexcess\"] = \"mu q H2O\"\n",
      "    >>> context.script[       \"dogmin\"] = \"yes 0\"\n",
      "    \n",
      "    is equivalent to\n",
      "    \n",
      "        axfile   mb50NCKFMASHTO\n",
      "        which    chl bi pa ep ru chl g ilm sph\n",
      "        inexcess mu q H2O\n",
      "        dogmin   yes 0\n",
      "    \n",
      "    To form repeat keyword entries, set the required corresponding values \n",
      "    in a Python list.  For example:\n",
      "    \n",
      "    >>> context.script[   \"samecoding\"] = [\"mu pa\", \"sp mt\"]\n",
      "    \n",
      "    is equivalent to\n",
      "    \n",
      "        samecoding mu pa\n",
      "        samecoding sp mt\n",
      "\n"
     ]
    }
   ],
   "source": [
    "# Configure some parameters directly on the `script` dictionary.\n",
    "help(tc.Context.script)"
   ]
  },
  {
   "cell_type": "code",
   "execution_count": 5,
   "metadata": {},
   "outputs": [],
   "source": [
    "context.script[       \"axfile\"] = \"mb50NCKFMASHTO\"\n",
    "context.script[        \"which\"] = \"chl bi pa ep ru chl g ilm sph\"\n",
    "context.script[     \"inexcess\"] = \"mu q H2O\"\n",
    "context.script[       \"dogmin\"] = \"yes 0\"\n",
    "context.script[    \"setmaxvar\"] = \"6\"\n",
    "context.script[   \"setPwindow\"] = \"11 11\"\n",
    "context.script[   \"setTwindow\"] = \"600 600\"\n",
    "context.script[\"pseudosection\"] = \"yes\"\n",
    "context.script[   \"samecoding\"] = [\"mu pa\", \"sp mt\"]\n",
    "context.script[      \"ptguess\"] = \"8.0 572\""
   ]
  },
  {
   "cell_type": "code",
   "execution_count": 6,
   "metadata": {
    "scrolled": false
   },
   "outputs": [],
   "source": [
    "# Add 'rbi' section.\n",
    "# We have specific `rbi` object that we use to achieve this. \n",
    "# Let's create rbi object, noting how we provide the oxide list at construction time:\n",
    "rbi_sec = tc.rbi(oxides=\"H2O SiO2 Al2O3 CaO MgO FeO K2O Na2O TiO2 O\")"
   ]
  },
  {
   "cell_type": "code",
   "execution_count": 7,
   "metadata": {},
   "outputs": [
    {
     "name": "stdout",
     "output_type": "stream",
     "text": [
      "Help on method add_phase in module tawnycalc.data_objects:\n",
      "\n",
      "add_phase(phase, mode, oxides) method of tawnycalc.data_objects.rbi instance\n",
      "    Add a phase to the rbi table. \n",
      "    \n",
      "    Params\n",
      "    ------\n",
      "    phase:  str\n",
      "        Name of phase to add. \n",
      "    mode: str, float\n",
      "        Mode/proportion of phase.\n",
      "    oxides: str,list\n",
      "        Proportion of each oxide for phase.\n",
      "\n"
     ]
    }
   ],
   "source": [
    "# Now we need to add the individual phases.\n",
    "# We will use the `add_phase` method to achieve this. \n",
    "# We supply the `phase` name, `mode` data, and finally\n",
    "# `oxides` as a string or list\n",
    "help(rbi_sec.add_phase)"
   ]
  },
  {
   "cell_type": "code",
   "execution_count": 8,
   "metadata": {},
   "outputs": [],
   "source": [
    "rbi_sec.add_phase(  \"g\",  \"0.0\"     , \"       0    3.000000    0.984049    0.230147    0.395429    2.406326           0           0           0    0.015951\")\n",
    "rbi_sec.add_phase( \"mu\",  \"0.159799\", \"1.000000    3.102219    1.393080    0.004483    0.058473    0.053149    0.386538    0.111220           0    0.002460\")\n",
    "rbi_sec.add_phase( \"pa\",  \"0.006915\", \"       1    2.984010    1.505704    0.019628    0.001993    0.002589    0.033770    0.456416           0    0.000473\")\n",
    "rbi_sec.add_phase( \"bi\",  \"0.090237\", \"0.932353    2.842048    0.636750           0    1.244448    1.572357    0.500000           0    0.067647    0.021202\")\n",
    "rbi_sec.add_phase(\"ilm\",  \"0.004242\", \"       0           0           0           0    0.011126    1.032649           0           0    0.956225    0.043775\")\n",
    "rbi_sec.add_phase(  \"q\",  \"0.240992\", \"       0           1           0           0           0           0           0           0           0           0\")\n",
    "rbi_sec.add_phase(\"H2O\",  \"0.458826\", \"       1           0           0           0           0           0           0           0           0           0\")"
   ]
  },
  {
   "cell_type": "code",
   "execution_count": 9,
   "metadata": {},
   "outputs": [
    {
     "data": {
      "text/plain": [
       "               H2O       SiO2      Al2O3     CaO       MgO       FeO       K2O       Na2O      TiO2      O\n",
       "g    0.0       0         3.000000  0.984049  0.230147  0.395429  2.406326  0         0         0         0.015951\n",
       "mu   0.159799  1.000000  3.102219  1.393080  0.004483  0.058473  0.053149  0.386538  0.111220  0         0.002460\n",
       "pa   0.006915  1         2.984010  1.505704  0.019628  0.001993  0.002589  0.033770  0.456416  0         0.000473\n",
       "bi   0.090237  0.932353  2.842048  0.636750  0         1.244448  1.572357  0.500000  0         0.067647  0.021202\n",
       "ilm  0.004242  0         0         0         0         0.011126  1.032649  0         0         0.956225  0.043775\n",
       "q    0.240992  0         1         0         0         0         0         0         0         0         0\n",
       "H2O  0.458826  1         0         0         0         0         0         0         0         0         0"
      ]
     },
     "execution_count": 9,
     "metadata": {},
     "output_type": "execute_result"
    }
   ],
   "source": [
    "# Let's have a look at the object\n",
    "rbi_sec"
   ]
  },
  {
   "cell_type": "code",
   "execution_count": 10,
   "metadata": {},
   "outputs": [
    {
     "data": {
      "text/plain": [
       "'0.984049'"
      ]
     },
     "execution_count": 10,
     "metadata": {},
     "output_type": "execute_result"
    }
   ],
   "source": [
    "# You can also access individual values directly\n",
    "rbi_sec[\"g\"][\"Al2O3\"]"
   ]
  },
  {
   "cell_type": "code",
   "execution_count": 11,
   "metadata": {},
   "outputs": [
    {
     "data": {
      "text/plain": [
       "0.9"
      ]
     },
     "execution_count": 11,
     "metadata": {},
     "output_type": "execute_result"
    }
   ],
   "source": [
    "# Values can also be modified\n",
    "rbi_sec[\"g\"][\"Al2O3\"] = 0.90\n",
    "# Print again to confirm:\n",
    "rbi_sec[\"g\"][\"Al2O3\"]"
   ]
  },
  {
   "cell_type": "code",
   "execution_count": 12,
   "metadata": {},
   "outputs": [],
   "source": [
    "# A point of subtlety... you may be noticed \n",
    "# above in the first instance we were returned\n",
    "# '0.984049' which is actually a string, and \n",
    "# in the second instance we were returned 0.9,\n",
    "# which is a float. Generally, you can use strings\n",
    "# and their equivalent float interchangeably."
   ]
  },
  {
   "cell_type": "code",
   "execution_count": 13,
   "metadata": {},
   "outputs": [],
   "source": [
    "# Let's set that value back now\n",
    "rbi_sec[\"g\"][\"Al2O3\"] = 0.984049"
   ]
  },
  {
   "cell_type": "code",
   "execution_count": 14,
   "metadata": {},
   "outputs": [],
   "source": [
    "# Ok, we have successfully created the `rbi` object, \n",
    "# but don't forget that it must be set on the `script` for\n",
    "# it to take effect:\n",
    "context.script[\"rbi\"] = rbi_sec"
   ]
  },
  {
   "cell_type": "code",
   "execution_count": 15,
   "metadata": {},
   "outputs": [],
   "source": [
    "# Now create xyzguess section.  \n",
    "# We use the `xyz` object this time. \n",
    "# It is really just a Python `OrderedDict`.\n",
    "# First create a dictionary to record values\n",
    "xyzguess = tc.xyz()\n",
    "# Now add values\n",
    "xyzguess[    \"x(g)\"] = \"0.885508\"\n",
    "xyzguess[    \"z(g)\"] = \"0.211255\"\n",
    "xyzguess[    \"f(g)\"] = \"0.070810\"\n",
    "xyzguess[   \"x(bi)\"] = \"0.579607\"\n",
    "xyzguess[   \"y(bi)\"] = \"0.140313\"\n",
    "xyzguess[   \"f(bi)\"] = \"0.126258\"\n",
    "xyzguess[   \"t(bi)\"] = \"0.072042\"\n",
    "xyzguess[   \"Q(bi)\"] = \"0.121282\"\n",
    "xyzguess[   \"x(mu)\"] = \"0.461998\"\n",
    "xyzguess[   \"y(mu)\"] = \"0.944788\"\n",
    "xyzguess[   \"f(mu)\"] = \"0.009495\"\n",
    "xyzguess[   \"n(mu)\"] = \"0.253509\"\n",
    "xyzguess[   \"c(mu)\"] = \"0.016160\"\n",
    "xyzguess[   \"x(pa)\"] = \"0.461998\"\n",
    "xyzguess[   \"y(pa)\"] = \"0.996868\"\n",
    "xyzguess[   \"f(pa)\"] = \"0.002376\"\n",
    "xyzguess[   \"n(pa)\"] = \"0.955475\"\n",
    "xyzguess[   \"c(pa)\"] = \"0.038175\"\n",
    "xyzguess[   \"x(ma)\"] = \"0.461998\"\n",
    "xyzguess[   \"y(ma)\"] = \"0.964236\"\n",
    "xyzguess[   \"f(ma)\"] = \"0.009701\"\n",
    "xyzguess[   \"n(ma)\"] = \"0.054672\"\n",
    "xyzguess[   \"c(ma)\"] = \"0.944410\"\n",
    "xyzguess[  \"x(chl)\"] = \"0.473331\"\n",
    "xyzguess[  \"y(chl)\"] = \"0.520964\"\n",
    "xyzguess[  \"f(chl)\"] = \"0.248348\"\n",
    "xyzguess[\"QAl(chl)\"] = \"0.230540  range -1.000 1.000\"\n",
    "xyzguess[ \"Q1(chl)\"] = \"0.077845  range -1.000 1.000\"\n",
    "xyzguess[ \"Q4(chl)\"] = \"0.092301  range -1.000 1.000\"\n",
    "xyzguess[   \"f(ep)\"] = \"0.264635\"\n",
    "xyzguess[   \"Q(ep)\"] = \"0.250072  range  0.000 0.500\"\n",
    "xyzguess[  \"i(ilm)\"] = \"0.829808\"\n",
    "xyzguess[  \"g(ilm)\"] = \"0.017481\"\n",
    "xyzguess[  \"Q(ilm)\"] = \"0.760053  range -0.990 0.990\"\n",
    "xyzguess[  \"x(mt1)\"] = \"0.762081\"\n",
    "xyzguess[  \"Q(mt1)\"] = \"0.808179\""
   ]
  },
  {
   "cell_type": "code",
   "execution_count": 16,
   "metadata": {},
   "outputs": [],
   "source": [
    "# Again, don't forget to set on the script:\n",
    "context.script[\"xyzguess\"] = xyzguess"
   ]
  },
  {
   "cell_type": "code",
   "execution_count": 17,
   "metadata": {},
   "outputs": [
    {
     "name": "stdout",
     "output_type": "stream",
     "text": [
      "THERMOCALC 3.50 (Free Pascal version)\n",
      "\n",
      "the summary output is in the file, \"tc-wlxlkt-o.txt\"\n",
      "other (eg drawpd) output is in the file, \"tc-wlxlkt-dr.txt\"\n",
      "details of calc results is in the file, \"tc-wlxlkt-ic.txt\"\n",
      "initial tables are in the file, \"tc-wlxlkt-it.txt\"\n",
      "csv format in the file, \"tc-wlxlkt-csv.txt\"\n",
      "more csv format in the file, \"tc-wlxlkt-csv2.txt\"\n",
      "\n",
      "^^^^^^^^^^^^^^^^^^^^^^^^^^^^^^^^^^^^^^^^^^^^^^^^^^^^^^^^^^^^^^^^^^^^^^^^^^\n",
      "\n",
      "THERMOCALC 3.50 running at 14.32 on Tue 10 Mar,2020\n",
      "using tc-ds62.txt produced at 20.08 on Mon 6 Feb,2012\n",
      "with axfile tc-mb50NCKFMASHTO.txt and scriptfile tc-wlxlkt.txt\n",
      "\n",
      "L  hb  aug  dio  opx  g  ol  ksp  plc  pli  sp  ilm  ilmm  ep  bi  mu\n",
      "chl  ru  sph  q  an  ab  H2O\n",
      "which: chl bi pa ep ru chl g ilm sph  (from script)\n",
      "\n",
      "max variance of equilibria 6-variant (from script)\n",
      "\n",
      "specification of PT window:\n",
      "at fixed P = 11.00 kbar and T = 600.0íC (from script)\n",
      "composition (from rbi script)\n",
      "      H2O     SiO2    Al2O3      CaO      MgO      FeO      K2O     Na2O     T#\n",
      "  52.1705  36.9434   4.3466   0.0129   1.7707   2.4610   1.5886   0.3156   0.3#\n",
      "@@\n",
      "##########################################################\n",
      "phases: g bi mu pa ru q H2O (gmin, + ilm ep chl sph; in excess, mu q H2O)\n",
      "\n",
      "   P(kbar)     T(íC)      x(g)      z(g)      f(g)     x(bi)     y(bi)     f(b#\n",
      "   11.0000   600.000    0.8580   0.03545   0.01549    0.5701    0.1163   0.054#\n",
      "                         t(bi)     Q(bi)     x(mu)     y(mu)     f(mu)     n(m#\n",
      "                       0.09110    0.1292    0.4666    0.9030  0.006190    0.22#\n",
      "                         c(mu)     x(pa)     y(pa)     f(pa)     n(pa)     c(p#\n",
      "                      0.003133    0.4666    0.9968  0.001186    0.9184   0.013#\n",
      "\n",
      "\n",
      " mode              g        bi        mu        pa        ru         q       H#\n",
      "              0.0026    0.0995    0.1603    0.0073    0.0022    0.2503    0.47#\n",
      "\n",
      "===============================================\n",
      "\n"
     ]
    }
   ],
   "source": [
    "# Now we have a complete configuration, let's execute. \n",
    "results = context.execute(print_output=True)"
   ]
  },
  {
   "cell_type": "code",
   "execution_count": 18,
   "metadata": {},
   "outputs": [
    {
     "name": "stdout",
     "output_type": "stream",
     "text": [
      "P\n",
      "T\n",
      "bulk_composition\n",
      "modes\n",
      "output_stderr\n",
      "output_stdout\n",
      "output_tc_ic\n",
      "output_tc_log\n",
      "phases\n",
      "rbi\n",
      "site_fractions\n",
      "thermodynamic_properties\n",
      "xyz\n"
     ]
    }
   ],
   "source": [
    "# Ok, we have a successful execution. \n",
    "# The resulting data is recorded in the returned\n",
    "# dictionary object.  Execute the `print_keys()` method\n",
    "# to see what is available. Note that keys prepended \n",
    "# with `output_` provide the raw output which may be useful \n",
    "# at times.\n",
    "results.print_keys()"
   ]
  },
  {
   "cell_type": "code",
   "execution_count": 19,
   "metadata": {},
   "outputs": [],
   "source": [
    "# Let's print the data. Note that most of the returned\n",
    "# data objects are based in Python dictionaries. \n",
    "# You can therefore (where appropriate) also access \n",
    "# values directly."
   ]
  },
  {
   "cell_type": "code",
   "execution_count": 20,
   "metadata": {},
   "outputs": [
    {
     "data": {
      "text/plain": [
       "11.0"
      ]
     },
     "execution_count": 20,
     "metadata": {},
     "output_type": "execute_result"
    }
   ],
   "source": [
    "results.P"
   ]
  },
  {
   "cell_type": "code",
   "execution_count": 21,
   "metadata": {
    "scrolled": false
   },
   "outputs": [
    {
     "data": {
      "text/plain": [
       "600.0"
      ]
     },
     "execution_count": 21,
     "metadata": {},
     "output_type": "execute_result"
    }
   ],
   "source": [
    "results.T"
   ]
  },
  {
   "cell_type": "code",
   "execution_count": 22,
   "metadata": {},
   "outputs": [
    {
     "data": {
      "text/plain": [
       "H2O    52.1705\n",
       "SiO2   36.9434\n",
       "Al2O3   4.3466\n",
       "CaO     0.0129\n",
       "MgO     1.7707\n",
       "FeO     2.461\n",
       "K2O     1.5886\n",
       "Na2O    0.3156\n",
       "TiO2    0.3454\n",
       "O       0.0455"
      ]
     },
     "execution_count": 22,
     "metadata": {},
     "output_type": "execute_result"
    }
   ],
   "source": [
    "results.bulk_composition"
   ]
  },
  {
   "cell_type": "code",
   "execution_count": 23,
   "metadata": {},
   "outputs": [
    {
     "data": {
      "text/plain": [
       "52.1705"
      ]
     },
     "execution_count": 23,
     "metadata": {},
     "output_type": "execute_result"
    }
   ],
   "source": [
    "results.bulk_composition[\"H2O\"]"
   ]
  },
  {
   "cell_type": "code",
   "execution_count": 24,
   "metadata": {},
   "outputs": [
    {
     "data": {
      "text/plain": [
       "g    0.0026\n",
       "bi   0.0995\n",
       "mu   0.1603\n",
       "pa   0.0073\n",
       "ru   0.0022\n",
       "q    0.2503\n",
       "H2O  0.4779"
      ]
     },
     "execution_count": 24,
     "metadata": {},
     "output_type": "execute_result"
    }
   ],
   "source": [
    "results.modes"
   ]
  },
  {
   "cell_type": "code",
   "execution_count": 25,
   "metadata": {},
   "outputs": [
    {
     "data": {
      "text/plain": [
       "0.0026"
      ]
     },
     "execution_count": 25,
     "metadata": {},
     "output_type": "execute_result"
    }
   ],
   "source": [
    "results.modes[\"g\"]"
   ]
  },
  {
   "cell_type": "code",
   "execution_count": 26,
   "metadata": {},
   "outputs": [
    {
     "data": {
      "text/plain": [
       "'g bi mu pa ru q H2O (gmin, + ilm ep chl sph; in excess, mu q H2O)'"
      ]
     },
     "execution_count": 26,
     "metadata": {},
     "output_type": "execute_result"
    }
   ],
   "source": [
    "results.phases"
   ]
  },
  {
   "cell_type": "code",
   "execution_count": 27,
   "metadata": {},
   "outputs": [
    {
     "data": {
      "text/plain": [
       "               H2O       SiO2      Al2O3     CaO       MgO       FeO       K2O       Na2O      TiO2      O\n",
       "g    0.002576  0         3         0.984509  0.106355  0.410931  2.513696  0         0         0         0.015491\n",
       "bi   0.099520  0.908899  2.829577  0.643344  0         1.177178  1.615455  0.500000  0         0.091101  0.027078\n",
       "mu   0.160257  1         3.093818  1.401520  0.003133  0.051716  0.051425  0.383536  0.114898  0         0.003095\n",
       "pa   0.007328  1.000000  2.989958  1.502832  0.013235  0.001703  0.002675  0.034180  0.459202  0         0.000593\n",
       "ru   0.002157  0         0         0         0         0         0         0         0         1         0\n",
       "q    0.250305  0         1         0         0         0         0         0         0         0         0\n",
       "H2O  0.477857  1         0         0         0         0         0         0         0         0         0"
      ]
     },
     "execution_count": 27,
     "metadata": {},
     "output_type": "execute_result"
    }
   ],
   "source": [
    "results.rbi"
   ]
  },
  {
   "cell_type": "code",
   "execution_count": 28,
   "metadata": {},
   "outputs": [
    {
     "data": {
      "text/plain": [
       "'0.003133'"
      ]
     },
     "execution_count": 28,
     "metadata": {},
     "output_type": "execute_result"
    }
   ],
   "source": [
    "results.rbi[\"mu\"][\"CaO\"]"
   ]
  },
  {
   "cell_type": "code",
   "execution_count": 29,
   "metadata": {},
   "outputs": [
    {
     "data": {
      "text/plain": [
       "g   xMgX     xFeX     xCaX     xAlY     xFe3Y\n",
       "    0.13698  0.82757  0.03545  0.98451  0.01549\n",
       "bi  xMgM3    xFeM3    xFe3M3   xTiM3    xAlM3    xMgM12   xFeM12   xSiT     xAlT     xOHV     xOV\n",
       "    0.23132  0.50716  0.05416  0.09110  0.11627  0.47293  0.52707  0.41479  0.58521  0.90890  0.09110\n",
       "mu  xKA      xNaA     xCaA     xMgM2A   xFeM2A   xAlM2A   xAlM2B   xFe3M2B  xSiT1    xAlT1\n",
       "    0.76707  0.22980  0.00313  0.05172  0.04523  0.90305  0.99381  0.00619  0.54691  0.45309\n",
       "pa  xKA      xNaA     xCaA     xMgM2A   xFeM2A   xAlM2A   xAlM2B   xFe3M2B  xSiT1    xAlT1\n",
       "    0.06836  0.91840  0.01324  0.00170  0.00149  0.99681  0.99881  0.00119  0.49498  0.50502"
      ]
     },
     "execution_count": 29,
     "metadata": {},
     "output_type": "execute_result"
    }
   ],
   "source": [
    "results.site_fractions"
   ]
  },
  {
   "cell_type": "code",
   "execution_count": 30,
   "metadata": {},
   "outputs": [
    {
     "data": {
      "text/plain": [
       "'0.11627'"
      ]
     },
     "execution_count": 30,
     "metadata": {},
     "output_type": "execute_result"
    }
   ],
   "source": [
    "results.site_fractions[\"bi\"][\"xAlM3\"]"
   ]
  }
 ],
 "metadata": {
  "jupytext": {
   "formats": "ipynb,py:percent"
  },
  "kernelspec": {
   "display_name": "Python 3",
   "language": "python",
   "name": "python3"
  },
  "language_info": {
   "codemirror_mode": {
    "name": "ipython",
    "version": 3
   },
   "file_extension": ".py",
   "mimetype": "text/x-python",
   "name": "python",
   "nbconvert_exporter": "python",
   "pygments_lexer": "ipython3",
   "version": "3.5.3"
  }
 },
 "nbformat": 4,
 "nbformat_minor": 2
}
