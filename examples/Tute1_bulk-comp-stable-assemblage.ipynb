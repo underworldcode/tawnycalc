{
 "cells": [
  {
   "cell_type": "markdown",
   "metadata": {},
   "source": [
    "## Phase equilibrium calculations with TawnyCALC (1):\n",
    "# The chemical system: bulk composition and phase equilibrium"
   ]
  },
  {
   "cell_type": "markdown",
   "metadata": {},
   "source": [
    "## Bulk composition\n",
    "\n",
    "Suppose we're considering some package of geological material (the \"system\"). Its nature and behaviour depend on its chemical composition - the **bulk composition**. The term \"bulk\" refers to a property of the the whole system, rather than a property of an individual mineral or fluid phases within the system.\n",
    "\n",
    "We will look at a representative bulk composition for a mid-ocean ridge basalt (**MORB**), as determined by Sun & McDonough (1989; in: Geol. Soc. London Special Publications, 42, 313-345).\n",
    "\n",
    "## Phase equilibrium\n",
    "\n",
    "### The chemical system is composed of phases\n",
    "\n",
    "**Phase equilibrium modelling** lets us predict which phases (different minerals and fluids) would be present in our system, if it were in thermodynamic equilibrium - an approximation that we're often happy to make. The phases present are a function of bulk composition, temperature, and pressure (strictly, stress, but we will ignore this complication for now). For example, here are some predictions for MORB:\n",
    "\n",
    "|Pressure (kbar) | Temperature (degC) | Phases in most stable equilibrium\n",
    "|:-------------- |:------------------ |:---------------------------------\n",
    "|          0.001 |               1150 | olivine, Ca-rich plagioclase, magnetite, _basaltic-andesitic melt_\n",
    "|              5 |               1000 | labradoritic plagioclase, clinopyroxene, orthopyroxene, magnetite, ilmenite\n",
    "|              5 |               1150 | labradoritic plagioclase, clinopyroxene, orthopyroxene, magnetite, _basaltic melt_\n",
    "\n",
    "Notice that in the two calculations at 1150C, melt is part of the stable assemblage. This is significant because the melt is relatively mobile, and may escape from the package of solid material, which itself may be stationary or else following a tectonically-determined path. If the melt escapes, it will change the bulk composition of our system, and of the surrounding material that it infiltrates, driving changes in the equilibrium phase assemblage. It may also transport significant heat, and modify local stress fields.\n",
    "\n",
    "### Calculating phase equilibria\n",
    "\n",
    "For the phase equilibrium calculations above, we used:\n",
    "- Thermodynamic data for the phases:\n",
    "    - the \"igneous set\" of HPx-eos (Holland et al 2018; J Petrol. 59 881-900); 31-10-2020 update. \n",
    "    - the Holland & Powell dataset (Holland & Powell 2011; J Metamorph. Geol. 29 333-383), version 6.33.\n",
    "- The phase equilibrium calculation software THERMOCALC (Powell & Holland 1988; J Metamorph. Geol. 6 173-204).\n",
    "\n",
    "For more information, see [The HPx-eos and THERMOCALC](http://hpxeosandthermocalc.org).\n",
    "\n",
    "\n",
    "### TawnyCALC\n",
    "\n",
    "The TawnyCALC package provides a Python environment for THERMOCALC. Below we demonstrate:\n",
    "- How to set up the MORB system in TawnyCALC and calculate the phase equilibria from above.\n",
    "- Extraction of equilibrium thermodynamic properties calculated for MORB.\n",
    "- What happens to the system if its bulk composition is changed, by addition of an aqueous fluid.\n",
    "\n",
    "Subsequent tutorials will explore sequential calculations, in which the bulk composition of the system changes progressively via loss and/or gain of phases. Such calculations describe **open-system processes**."
   ]
  },
  {
   "cell_type": "markdown",
   "metadata": {},
   "source": [
    "## Setting up a TawnyCALC calculation"
   ]
  },
  {
   "cell_type": "markdown",
   "metadata": {},
   "source": [
    "### Initiating TawnyCALC and loading thermo data"
   ]
  },
  {
   "cell_type": "markdown",
   "metadata": {},
   "source": [
    "First, import the necessary packages, including TawnyCALC itself:"
   ]
  },
  {
   "cell_type": "code",
   "execution_count": 1,
   "metadata": {},
   "outputs": [],
   "source": [
    "import tawnycalc as tc\n",
    "import os"
   ]
  },
  {
   "cell_type": "code",
   "execution_count": 2,
   "metadata": {},
   "outputs": [],
   "source": [
    "\n",
    "\n",
    "# !!!!!!!!!!!!!! I also set the following environment variable to tell TawnyCALC where to find THERMOCALC  !!!!!!!!!!!!!!!\n",
    "# %set_env THERMOCALC_EXECUTABLE tc350beta\n",
    "\n",
    "\n"
   ]
  },
  {
   "cell_type": "markdown",
   "metadata": {},
   "source": [
    "THERMOCALC is capable of many types of calculation, controlled by scripts. \n",
    "Here we set up a clean \"context\" for TawnyCALC - a structure for assembling scripts, which it will use to drive THERMOCALC:"
   ]
  },
  {
   "cell_type": "code",
   "execution_count": 3,
   "metadata": {},
   "outputs": [],
   "source": [
    "context = tc.Context(scripts_dir=None)"
   ]
  },
  {
   "cell_type": "markdown",
   "metadata": {},
   "source": [
    "Next, load the sources of the thermodynamic data:"
   ]
  },
  {
   "cell_type": "code",
   "execution_count": 4,
   "metadata": {},
   "outputs": [],
   "source": [
    "context.prefs[\"dataset\"] = 633                  # Holland & Powell dataset, version 6.33\n",
    "context.script[\"axfile\"] = \"ig50NCKFMASHTOCr\"   # igneous set of HPx-eos"
   ]
  },
  {
   "cell_type": "markdown",
   "metadata": {},
   "source": [
    "### Setting a bulk composition"
   ]
  },
  {
   "cell_type": "markdown",
   "metadata": {},
   "source": [
    "We need to define the MORB bulk composition. This is done in terms of molar proportions of oxides:"
   ]
  },
  {
   "cell_type": "code",
   "execution_count": 5,
   "metadata": {},
   "outputs": [],
   "source": [
    "# Specify the chemical system, a subset of the oxides recognised by THERMOCALC:\n",
    "\n",
    "oxidestr = \"    SiO2  Al2O3   CaO    MgO   FeOt  K2O    Na2O   TiO2     O  \"\n",
    "\n",
    "# Specify the amounts of these oxides, in moles, for MORB: \n",
    "\n",
    "MORB = \"  52.97   9.19   12.34  12.84  8.23  0.23  2.64  1.06  0.49  \"\n",
    "\n",
    "# Use tc.wt2mol(oxidestr,<MORB_in_mass_proportions>) and\n",
    "# tc.mol2wt(oxidestr,<cMORB_in_mole_proportions>) \n",
    "# to covert from wt% to mole% or vice versa."
   ]
  },
  {
   "cell_type": "markdown",
   "metadata": {},
   "source": [
    "Note, the oxides recognised by THERMOCALC are: H2O, SiO2, Al2O3, CaO, MgO, FeOt, K2O, Na2O, TiO2, O, Cr2O3. It isn't necessary to use all of them (in the MORB composition, we have ignored Cr2O3), but they must be provided in this order. In this list, FeOt = all iron as FeO. Given the reaction 2 FeO + O = Fe2O3, we therefore have \n",
    "> mFe2O3 = mO <br>\n",
    "> mFeO = mFeOt - 2 mO\n",
    "\n",
    "for molar quantities of the oxide units.\n",
    "\n",
    "Now to tell TawnyCALC about it. Bulk compositions in TawnyCALC are specified via a structure called *rbi* (\"raw bulk info\"). Start by telling it which oxides are being used:"
   ]
  },
  {
   "cell_type": "code",
   "execution_count": 6,
   "metadata": {},
   "outputs": [],
   "source": [
    "rbi_sec = tc.rbi(oxides=oxidestr)"
   ]
  },
  {
   "cell_type": "markdown",
   "metadata": {},
   "source": [
    "TawnyCALC will complain if an invalid oxide name is provided, or if the order is not what it expects.\n",
    "\n",
    "Now we provide the values of the oxides in MORB. TawnyCALC doesn't actually expect the bulk composition to be provided as a single vector, as we want to do here. Instead, it expects to build up a bulk composition from a collection of phases - the usefulness of this will be  obvious later. Consequently, the bulk composition is specified via a function called _add_phase_, which looks a little odd:"
   ]
  },
  {
   "cell_type": "code",
   "execution_count": 7,
   "metadata": {},
   "outputs": [
    {
     "data": {
      "text/plain": [
       "           SiO2   Al2O3  CaO    MgO    FeOt  K2O   Na2O  TiO2  O\n",
       "MORB  1.0  52.97  9.19   12.34  12.84  8.23  0.23  2.64  1.06  0.49"
      ]
     },
     "execution_count": 7,
     "metadata": {},
     "output_type": "execute_result"
    }
   ],
   "source": [
    "rbi_sec.add_phase(\"MORB\",  \"1\", MORB)\n",
    "rbi_sec"
   ]
  },
  {
   "cell_type": "markdown",
   "metadata": {},
   "source": [
    "### Calculating the most stable assemblage"
   ]
  },
  {
   "cell_type": "markdown",
   "metadata": {},
   "source": [
    "Now we will calculate the most stable assemblage at 5 kbar, 1000ºC, as in the table above.\n",
    "\n",
    "Here we set some scripts to control the calculation:"
   ]
  },
  {
   "cell_type": "code",
   "execution_count": 8,
   "metadata": {},
   "outputs": [],
   "source": [
    "# Type of calculation\n",
    "\n",
    "context.script[\"pseudosection\"] = \"\"  # Calculation involves a bulk composition\n",
    "context.script[       \"dogmin\"] = \"0\" # Seek the most stable assemblage\n",
    "\n",
    "# Pressure and temperature (P,T)\n",
    "context.script[    \"diagramPT\"] = \"2 8 800 1200\"   # Pmin, Pmax, Tmin, Tmax; must\n",
    "                                                    # encompass desired P (kbar) and T (degC)\n",
    "\n",
    "context.script[        \"calcP\"] = \"5\"               # P for calc (kbar)\n",
    "context.script[        \"calcT\"] = \"1000\"            # T for calc (degC)\n"
   ]
  },
  {
   "cell_type": "markdown",
   "metadata": {},
   "source": [
    "Another set of scripts relates to the phases and phase assemblages involved in the calculation. This is the most difficult part of the process, requiring petrological understanding, and will be discussed at length in subsequent tutorials."
   ]
  },
  {
   "cell_type": "code",
   "execution_count": 9,
   "metadata": {},
   "outputs": [],
   "source": [
    "# Phases and phase assemblages involved in the calculation.\n",
    "\n",
    "context.script[        \"with\"] = \"pl opx cpx mt ilm ol q g liq\"  # Phases to consider:\n",
    "                                # plagioclase, orthopyroxene, magnetite, spinel, ilmenite\n",
    "                                # olivine, quartz, melt\n",
    "context.script[    \"inexcess\"] = \"\"          # No phases are *assumed* to be in the assemblage \n",
    "context.script[    \"varrange\"] = \"4 6\"       # Min_variance, max_variance, of assemblages THERMOCALC \n",
    "                                             # should try. This limits the number of combinations \n",
    "                                             # of phases it should explore, and hence helps to reduce\n",
    "                                             # the length of a calculation.\n",
    "                        \n",
    "# Load a set of starting guesses for the compositions of the phases \n",
    "# from a file. To achieve this, we leverage the `thermocalc_script` class \n",
    "# which handles general THERMOCALC scripts, and then pull out the required section.\n",
    "guessfile=\"Eg1-bulk-comp-stable-assemblage/xyzguess.txt\"\n",
    "start_guess_data = tc.thermocalc_script(filename=guessfile)\n",
    "context.script[\"samecoding\"] = start_guess_data[\"samecoding\"]\n",
    "context.script[\"xyzguess\"] = start_guess_data[\"xyzguess\"]"
   ]
  },
  {
   "cell_type": "markdown",
   "metadata": {},
   "source": [
    "Finally, we must add the rbi structure created above to the scripts (this must be done after specifying \"pseudosection\"):"
   ]
  },
  {
   "cell_type": "code",
   "execution_count": 10,
   "metadata": {},
   "outputs": [],
   "source": [
    "context.script[\"rbi\"] = rbi_sec"
   ]
  },
  {
   "cell_type": "markdown",
   "metadata": {},
   "source": [
    "Now to run THERMOCALC via TawnyCALC:"
   ]
  },
  {
   "cell_type": "code",
   "execution_count": 11,
   "metadata": {},
   "outputs": [],
   "source": [
    "results = context.execute()"
   ]
  },
  {
   "cell_type": "markdown",
   "metadata": {},
   "source": [
    "And here is the onscreen output generated from THERMOCALC, showing the phases in the most stable assemblage, and a summary of their compositions and relative proportions (modes)."
   ]
  },
  {
   "cell_type": "code",
   "execution_count": 12,
   "metadata": {},
   "outputs": [
    {
     "name": "stdout",
     "output_type": "stream",
     "text": [
      "THERMOCALC 3.50 (Free Pascal version)\n",
      "\n",
      "summary output in the file, \"tc-wbykxu-o.txt\"\n",
      "other (eg drawpd) output in the file, \"tc-wbykxu-dr.txt\"\n",
      "details of calc results in the file, \"tc-wbykxu-ic.txt\"\n",
      "initial tables in the file, \"tc-wbykxu-it.txt\"\n",
      "csv format in the file, \"tc-wbykxu.csv\"\n",
      "more csv format in the file, \"tc-wbykxu2.csv\"\n",
      "(these files may not all be populated yet, depending on the calcs;\n",
      " thermocalc should delete empty files at the end of each run)\n",
      "^^^^^^^^^^^^^^^^^^^^^^^^^^^^^^^^^^^^^^^^^^^^^^^^^^^^^^^^^^^^\n",
      "\n",
      "THERMOCALC 3.50 running at 14.54 on Mon 1 Feb,2021\n",
      "using tc-ds633.txt produced at 20.37 on Fri 23 Jun,2017\n",
      "with axfile tc-ig50NCKFMASHTOCr.txt and scriptfile tc-wbykxu.txt\n",
      "\n",
      "reading ax: liq fl pli plc ol ksp mu bi g ep cd opx cpx spn hb ilm ky q ru mt \n",
      "            sph sill san H2O an \n",
      "\n",
      "with: liq pl ol g opx cpx mt ilm q  (from script)\n",
      "no phases in excess (from script)\n",
      "\n",
      "specification of xyz starting guesses of phases\n",
      "in the scriptfile: liq pl ol g opx cpx mt ilm; not in the scriptfile: none\n",
      "\n",
      "specification of overall PT window:\n",
      "overall PT window is P: 2.0 to 8.0 kbar, and T: 800 to 1200íC (from script)\n",
      "\n",
      "running dogmin: min variance of equilibria is quadrivariant; max variance is 6-variant\n",
      "\n",
      "specification of PT calcs:\n",
      "P at which equilibria to be calculated: 5.000 kbar (from script)\n",
      "T at which equilibria to be calculated: 1000.00íC (from script)\n",
      "\n",
      "specification of bulk composition\n",
      "composition (from rbi script)\n",
      "     SiO2    Al2O3      CaO      MgO     FeOt      K2O     Na2O     TiO2        O\n",
      "  52.9753   9.1909  12.3412  12.8413   8.2308   0.2300   2.6403   1.0601   0.4900\n",
      "@@@@\n",
      "##########################################################\n",
      "Gibbs energy minimisation gives the 6-variant assemblage pl opx cpx mt ilm \n",
      "with no in excess phases, also trying assemblages involving liq ol g q\n",
      "\n",
      "   P(kbar)     T(íC)    ca(pl)     k(pl)    x(opx)    y(opx)    c(opx)    Q(opx)    f(opx)    t(opx)    j(opx)    x(cpx\n",
      "    y(cpx)    o(cpx)    n(cpx)    Q(cpx)    f(cpx)    t(cpx)    k(cpx)     x(mt)     y(mt)     t(mt)    Q1(mt)    Q2(mt\n",
      "    Q3(m#\n",
      "    5.0000  1000.000    0.5469   0.03067    0.3499    0.1192   0.07343   -0.1603   0.04404  0.006272  0.004427    0.313\n",
      "   0.04692    0.2229   0.08583  -0.06190   0.04992   0.01495   0.01477    0.6294    0.7836    0.7571    0.2985   -0.141\n",
      "    0.21#\n",
      "                        x(ilm)    Q(ilm)\n",
      "                        0.8913    0.6791\n",
      "\n",
      "mode        pl       opx       cpx        mt       ilm\n",
      "        0.4847    0.1707    0.3224    0.0115    0.0106\n",
      "\n",
      "============================================================\n",
      "elapsed =  6.6 secs\n",
      "\n"
     ]
    }
   ],
   "source": [
    "context.print_output()"
   ]
  },
  {
   "cell_type": "markdown",
   "metadata": {},
   "source": [
    "## Output from TawnyCALC"
   ]
  },
  {
   "cell_type": "markdown",
   "metadata": {},
   "source": [
    "### Characterising the calculated assemblage via the rbi structure"
   ]
  },
  {
   "cell_type": "markdown",
   "metadata": {},
   "source": [
    "So the stable assemblage predicted for MORB, at 5 kbar and 1000ºC, is \n",
    "\n",
    "plagioclase + orthopyroxene + clinopyroxene + magnetite + ilmenite.\n",
    "\n",
    "Let's first have a look at what the resultant rbi structure, produced by THERMOCALC to represent the most stable assemblage:"
   ]
  },
  {
   "cell_type": "code",
   "execution_count": 13,
   "metadata": {},
   "outputs": [
    {
     "data": {
      "text/plain": [
       "               SiO2      Al2O3     CaO       MgO       FeOt      K2O       Na2O      TiO2      O\n",
       "pl   0.484734  2.45311   0.773445  0.54689   0.0       0.0       0.015337  0.211218  0.0       0.0\n",
       "opx  0.170675  1.880776  0.093144  0.073426  1.173208  0.675603  0.0       0.002213  0.006272  0.022022\n",
       "cpx  0.322417  1.953081  0.057309  0.676504  0.748112  0.392143  0.007385  0.042913  0.014948  0.02496\n",
       "mt   0.011539  0.0       0.052553  0.0       0.651259  1.486535  0.0       0.0       0.757101  0.190346\n",
       "ilm  0.010636  0.0       0.0       0.0       0.0       1.1087    0.0       0.0       0.8913    0.1087"
      ]
     },
     "execution_count": 13,
     "metadata": {},
     "output_type": "execute_result"
    }
   ],
   "source": [
    "rbi_out = results.rbi\n",
    "rbi_out"
   ]
  },
  {
   "cell_type": "markdown",
   "metadata": {},
   "source": [
    "Each row represents one of the phases constituting the calculated most-stable assemblage. From the third column onwards, the compositition of the phases is given in molar oxides, normalised to correspond with the formula unit of the phases. For example, in the pyroxenes opx and cpx, with formulae \n",
    "\n",
    "  (Ca,Mg,Fe2+,Na,K)$^{M2}$(Mg,Fe$^{2+}$,Al,Fe$^{3+}$,Cr,Ti)$^{M1}$(Si,Al)$_2^{T}$O6 \n",
    "  \n",
    "the sum of all cations in the relevant rbi row is 4, while the sum of oxygens is 6. \n",
    "\n",
    "The second column of the rbi block represents the modal proportion, or mode, of the phase; this column sums to 1. The mode of phase $i$ is the proportion of atoms in the system comprised of $i$. It can be converted to more convenient units, as shown later in this tutorial.\n",
    "\n",
    "The block printed above looks very different from our initial rbi input:"
   ]
  },
  {
   "cell_type": "code",
   "execution_count": 14,
   "metadata": {},
   "outputs": [
    {
     "data": {
      "text/plain": [
       "           SiO2   Al2O3  CaO    MgO    FeOt  K2O   Na2O  TiO2  O\n",
       "MORB  1.0  52.97  9.19   12.34  12.84  8.23  0.23  2.64  1.06  0.49"
      ]
     },
     "execution_count": 14,
     "metadata": {},
     "output_type": "execute_result"
    }
   ],
   "source": [
    "rbi_sec"
   ]
  },
  {
   "cell_type": "markdown",
   "metadata": {},
   "source": [
    "However, the compositions and modal proportions of phases in _rbi_out_ must combine to give the MORB bulk composition. We can check this conveniently by converting _rbi_out_ into a normalised vector of oxides, using"
   ]
  },
  {
   "cell_type": "code",
   "execution_count": 15,
   "metadata": {},
   "outputs": [
    {
     "data": {
      "text/plain": [
       "{'SiO2': 52.97526490887504,\n",
       " 'Al2O3': 9.190912465747044,\n",
       " 'CaO': 12.34122518414344,\n",
       " 'MgO': 12.841281019582624,\n",
       " 'FeOt': 8.230849215340328,\n",
       " 'K2O': 0.2300244139580861,\n",
       " 'Na2O': 2.64026336038733,\n",
       " 'TiO2': 1.0601263737935231,\n",
       " 'O': 0.4900530581725886}"
      ]
     },
     "execution_count": 15,
     "metadata": {},
     "output_type": "execute_result"
    }
   ],
   "source": [
    "bc = tc.bulk_composition(rbi_out).molepc_oxides\n",
    "bc"
   ]
  },
  {
   "cell_type": "markdown",
   "metadata": {},
   "source": [
    "which does indeed return the MORB bulk composition.\n",
    "\n",
    "As we shall see in later tutorials, the rbi structure is a useful way to characterise the system during _open system processes_, in which the chemistry of the system changes over time due to the loss or addition of phases. A very simple example is given at the end of this tutorial."
   ]
  },
  {
   "cell_type": "markdown",
   "metadata": {},
   "source": [
    "### Additional thermodynamic output\n",
    "\n",
    "Which properties can we obtain for our calculated most-stable assemblage? These can be listed with:"
   ]
  },
  {
   "cell_type": "code",
   "execution_count": 16,
   "metadata": {},
   "outputs": [
    {
     "name": "stdout",
     "output_type": "stream",
     "text": [
      "P\n",
      "T\n",
      "bulk_composition\n",
      "modes\n",
      "output_tc_ic\n",
      "rbi\n",
      "site_fractions\n",
      "thermodynamic_properties\n",
      "xyz\n"
     ]
    }
   ],
   "source": [
    "results.print_keys()"
   ]
  },
  {
   "cell_type": "markdown",
   "metadata": {},
   "source": [
    "Taking *site_fractions* as an example, we can view the output:"
   ]
  },
  {
   "cell_type": "code",
   "execution_count": 17,
   "metadata": {},
   "outputs": [
    {
     "data": {
      "text/plain": [
       "pl   xK       xNa      xCa\n",
       "     0.03067  0.42244  0.54689\n",
       "opx  xMgM1    xFeM1    xAlM1    xFe3M1   xTiM1    xMgM2    xFeM2    xCaM2    xNaM2    xSiT     xAlT\n",
       "     0.71527  0.16736  0.06706  0.04404  0.00627  0.45794  0.46420  0.07343  0.00443  0.94039  0.05961\n",
       "cpx  xMgM1    xFeM1    xAlM1    xFe3M1   xTiM1    xMgM2    xFeM2    xCaM2    xNaM2    xKM2     xSiT     xAlT\n",
       "     0.64887  0.21857  0.06770  0.04992  0.01495  0.09925  0.12365  0.67650  0.08583  0.01477  0.97654  0.02346\n",
       "mt   xMgT     xFeT     xAlT     xFe3T    xMgM     xFeM     xAlM     xFe3M    xTiM\n",
       "     0.41606  0.27448  0.03925  0.27021  0.11760  0.41568  0.03293  0.05524  0.37855\n",
       "ilm  xFe2A    xTiA     xFe3A    xFe2B    xTiB     xFe3B\n",
       "     0.78522  0.10608  0.10870  0.10608  0.78522  0.10870"
      ]
     },
     "execution_count": 17,
     "metadata": {},
     "output_type": "execute_result"
    }
   ],
   "source": [
    "results.site_fractions"
   ]
  },
  {
   "cell_type": "markdown",
   "metadata": {},
   "source": [
    "access values via a dictionary structure:"
   ]
  },
  {
   "cell_type": "code",
   "execution_count": 18,
   "metadata": {},
   "outputs": [
    {
     "data": {
      "text/plain": [
       "'0.06770'"
      ]
     },
     "execution_count": 18,
     "metadata": {},
     "output_type": "execute_result"
    }
   ],
   "source": [
    "results.site_fractions['cpx']['xAlM1']"
   ]
  },
  {
   "cell_type": "markdown",
   "metadata": {},
   "source": [
    "and obtain more information about them via:"
   ]
  },
  {
   "cell_type": "markdown",
   "metadata": {},
   "source": [
    "*!!!!!!!!!!!!!!!!!!!!!!!!!!!!!*"
   ]
  },
  {
   "cell_type": "markdown",
   "metadata": {},
   "source": [
    "The structure _results.thermodynamic_properties_ contains properties, such as density (rho), that are of interest when integrating phase equilibrium calculations with simulations of Earth processes:"
   ]
  },
  {
   "cell_type": "code",
   "execution_count": 19,
   "metadata": {},
   "outputs": [
    {
     "data": {
      "text/plain": [
       "     mode        f           G           H           S        V         rho\n",
       "pl   0.48473396  0.21845261  -4547.7184  -3752.6157  0.6245   10.26739  2.64380\n",
       "opx  0.17067477  0.28398840  -3233.4037  -2605.1765  0.4934   6.55740   3.40721\n",
       "cpx  0.32241672  0.28398840  -3379.4152  -2753.4842  0.4916   6.78014   3.30960\n",
       "mt   0.01153884  0.40569771  -1996.2844  -1464.2793  0.4179   4.71201   4.28553\n",
       "ilm  0.01063572  0.56797680  -1414.4591  -1042.3030  0.2923   3.25334   4.69045\n",
       "sys  -           -           -965.60399  -788.90902  0.13879  2.06758   2.99803"
      ]
     },
     "execution_count": 19,
     "metadata": {},
     "output_type": "execute_result"
    }
   ],
   "source": [
    "results.thermodynamic_properties"
   ]
  },
  {
   "cell_type": "markdown",
   "metadata": {},
   "source": [
    "In this data block, the properties of the individual phases are given on a per-formula-unit (p.f.u.) basis, consistent with the compositions in the rbi block. In the final row, 'sys' is the system, comprising the whole mineral assemblage. Its properties - the \"bulk\" properties, are the sum of the \"partial\" properties contributed by each phase, weighted by the modes. To form this sum, the properties of each phase must be converted from a p.f.u. basis to a per-atom basis.  Column $f$ gives the per-formula-unit to per-atom conversion factor for the phase, equal to \n",
    "(number_atoms_in_system)/(100 * number_atoms_in_formula_unit)\n",
    "\n",
    "(see !!!!!!!!!!!!!!!!! for more information  !!!!!!!!!!!!!!!!!!!!!!!!.)\n",
    "\n",
    "In order to work with these concepts a little further, and introduce further classes and functions from TawnyCALC, we will re-cast the modes of phases into percentages by volume (vol%). Use _help(...)_ to find out more about a class or function."
   ]
  },
  {
   "cell_type": "code",
   "execution_count": 20,
   "metadata": {},
   "outputs": [
    {
     "data": {
      "text/plain": [
       "{'pl': 52.584539104265275,\n",
       " 'opx': 15.372302838822968,\n",
       " 'cpx': 30.025769479018294,\n",
       " 'mt': 1.0668619821115781,\n",
       " 'ilm': 0.9505265957818909}"
      ]
     },
     "execution_count": 20,
     "metadata": {},
     "output_type": "execute_result"
    }
   ],
   "source": [
    "# Use class tc.deconstruct_rbi(rbi_block) to extract rows and columns \n",
    "# from an rbi block\n",
    "assemblage  = tc.deconstruct_rbi(rbi_out).phases\n",
    "oxides      = tc.deconstruct_rbi(rbi_out).oxides\n",
    "\n",
    "\n",
    "# For each end-member, extract the volume p.f.u.,\n",
    "# then convert to a per-atom, mode-weighted value to \n",
    "# form a partial volume.\n",
    "\n",
    "partial_volumes = []\n",
    "\n",
    "for phase in assemblage:\n",
    "    volume_pfu = float(results.thermodynamic_properties[phase][\"V\"])\n",
    "    f = float(results.thermodynamic_properties[phase][\"f\"])\n",
    "    mode = float(results.thermodynamic_properties[phase][\"mode\"])\n",
    "    partial_volume = volume_pfu * f * mode\n",
    "    partial_volumes.append(partial_volume)\n",
    "\n",
    "volume_percents = [ 100*v/sum(partial_volumes) for v in partial_volumes ]\n",
    "\n",
    "dict(zip( assemblage, volume_percents ))"
   ]
  },
  {
   "cell_type": "markdown",
   "metadata": {},
   "source": [
    "Of course, the sum of _partial_volumes_ is the system volume, as given in the _results.thermodynamic_properties_ block above:"
   ]
  },
  {
   "cell_type": "code",
   "execution_count": 21,
   "metadata": {},
   "outputs": [
    {
     "data": {
      "text/plain": [
       "2.0675816633548787"
      ]
     },
     "execution_count": 21,
     "metadata": {},
     "output_type": "execute_result"
    }
   ],
   "source": [
    "sum(partial_volumes)"
   ]
  },
  {
   "cell_type": "markdown",
   "metadata": {},
   "source": [
    "The function _tc.partial_property()_ will find the partial volumes for us. It will find $f$ itself, if none is provided, but values from THERMOCALC should be used where available to reduce rounding errors."
   ]
  },
  {
   "cell_type": "code",
   "execution_count": 22,
   "metadata": {},
   "outputs": [
    {
     "data": {
      "text/plain": [
       "{'pl': 52.584495619113504,\n",
       " 'opx': 15.37230957365391,\n",
       " 'cpx': 30.02576824688458,\n",
       " 'mt': 1.0668758051465943,\n",
       " 'ilm': 0.9505507552014252}"
      ]
     },
     "execution_count": 22,
     "metadata": {},
     "output_type": "execute_result"
    }
   ],
   "source": [
    "volumes = [ float(results.thermodynamic_properties[phase][\"V\"]) for phase in assemblage ]\n",
    "f_facs = [ float(results.thermodynamic_properties[phase][\"f\"]) for phase in assemblage ]\n",
    "\n",
    "partial_volumes = tc.partial_property(rbi_out,volumes,f_facs).values\n",
    "\n",
    "volume_percents = [ 100*v/sum(partial_volumes) for v in partial_volumes ]\n",
    "\n",
    "dict(zip( assemblage, volume_percents ))"
   ]
  },
  {
   "cell_type": "markdown",
   "metadata": {},
   "source": [
    "Finally, the mass of a phase or system can be calculated, using molar masses imported via"
   ]
  },
  {
   "cell_type": "code",
   "execution_count": 23,
   "metadata": {},
   "outputs": [
    {
     "data": {
      "text/plain": [
       "{'H2O': 18.015,\n",
       " 'SiO2': 60.08,\n",
       " 'Al2O3': 101.96,\n",
       " 'CaO': 56.08,\n",
       " 'MgO': 40.3,\n",
       " 'FeO': 71.85,\n",
       " 'FeOt': 71.85,\n",
       " 'K2O': 94.2,\n",
       " 'Na2O': 61.98,\n",
       " 'TiO2': 79.88,\n",
       " 'O': 16.0,\n",
       " 'Cr2O3': 151.99}"
      ]
     },
     "execution_count": 23,
     "metadata": {},
     "output_type": "execute_result"
    }
   ],
   "source": [
    "tc.oxide_data().molar_masses"
   ]
  },
  {
   "cell_type": "markdown",
   "metadata": {},
   "source": [
    "So we might also write our modal proportions of phases in wt%, using "
   ]
  },
  {
   "cell_type": "code",
   "execution_count": 24,
   "metadata": {},
   "outputs": [
    {
     "data": {
      "text/plain": [
       "{'pl': 46.371274426895134,\n",
       " 'opx': 17.47035246400657,\n",
       " 'cpx': 33.14618892232143,\n",
       " 'mt': 1.5250395205364544,\n",
       " 'ilm': 1.4871446662404015}"
      ]
     },
     "execution_count": 24,
     "metadata": {},
     "output_type": "execute_result"
    }
   ],
   "source": [
    "masses = [ sum([ tc.oxide_data().molar_masses[ox] * rbi_out[phase][ox] for ox in oxides ]) for phase in assemblage ]\n",
    "partial_masses = tc.partial_property(rbi_out,masses,f_facs).values\n",
    "wt_percents = [ 100*m/sum(partial_masses) for m in partial_masses ]\n",
    "dict(zip( assemblage, wt_percents ))"
   ]
  },
  {
   "cell_type": "markdown",
   "metadata": {},
   "source": [
    "## A change to the bulk composition"
   ]
  },
  {
   "cell_type": "markdown",
   "metadata": {},
   "source": [
    "Supposing that while our package of rock is at 5 kbar, 1000ºC, it is infiltrated by a large volume of water. We have previously modelled it as being \"dry\", i.e. H2O-free, so this will change its bulk composition dramatically. (In general, *any* change in bulk composition affects compositions and modes of the stable phases, and may potentially change which phases are present in the stable assemblage, even if we have not added a new chemical component.)\n",
    "\n",
    "We'll start again with a clean context for the calculations (but the same thermo input data):"
   ]
  },
  {
   "cell_type": "code",
   "execution_count": 25,
   "metadata": {},
   "outputs": [],
   "source": [
    "context = tc.Context(scripts_dir=None)\n",
    "context.prefs[\"dataset\"] = 633                  # Holland & Powell dataset, version 6.33\n",
    "context.script[\"axfile\"] = \"ig50NCKFMASHTOCr\"   # igneous set of HPx-eos"
   ]
  },
  {
   "cell_type": "markdown",
   "metadata": {},
   "source": [
    "We must redefine the oxide list to include H2O, which goes in first place. We will construct the initial rbi block by adding an H2O fluid to the stable assemblage at 5 kbar, 1000ºC."
   ]
  },
  {
   "cell_type": "code",
   "execution_count": 26,
   "metadata": {},
   "outputs": [
    {
     "data": {
      "text/plain": [
       "{'H2O': 4.9487918425102375,\n",
       " 'SiO2': 50.353629320516454,\n",
       " 'Al2O3': 8.7360733393899,\n",
       " 'CaO': 11.730483638964731,\n",
       " 'MgO': 12.205792752011709,\n",
       " 'FeOt': 7.82352162080225,\n",
       " 'K2O': 0.2186409845243464,\n",
       " 'Na2O': 2.509602222587696,\n",
       " 'TiO2': 1.0076629262869299,\n",
       " 'O': 0.4658013524057718}"
      ]
     },
     "execution_count": 26,
     "metadata": {},
     "output_type": "execute_result"
    }
   ],
   "source": [
    "oxidestr = \"    H2O   SiO2  Al2O3   CaO    MgO   FeOt  K2O    Na2O   TiO2     O  \"\n",
    "\n",
    "rbi_sec = tc.rbi(oxides=oxidestr)\n",
    "\n",
    "#                 phase   mode         H2O   SiO2      Al2O3     CaO       MgO       FeO       K2O       Na2O      TiO2      O\n",
    "# lifted from the previous calc \n",
    "rbi_sec.add_phase(\"pl\",   \"0.484734\", \"0.0   2.45311   0.773445  0.54689   0.0       0.0       0.015337  0.211218  0.0       0.0\")\n",
    "rbi_sec.add_phase(\"opx\",  \"0.170675\", \"0.0   1.880776  0.093144  0.073426  1.173208  0.675603  0.0       0.002213  0.006272  0.022022\")\n",
    "rbi_sec.add_phase(\"cpx\",  \"0.322417\", \"0.0   1.953081  0.057309  0.676504  0.748112  0.392143  0.007385  0.042913  0.014948  0.02496\")\n",
    "rbi_sec.add_phase(\"mt\",   \"0.011539\", \"0.0   0.0       0.052553  0.0       0.651259  1.486535  0.0       0.0       0.757101  0.190346\")\n",
    "rbi_sec.add_phase(\"ilm\",  \"0.010636\", \"0.0   0.0       0.0       0.0       0.0       1.1087    0.0       0.0       0.8913    0.1087\")\n",
    "\n",
    "# adding some H2O\n",
    "rbi_sec.add_phase(\"H2O\",  \"0.055\",    \"1.0   0.0       0.0       0.0       0.0       0.0       0.0       0.0       0.0       0.0     \")\n",
    "\n",
    "# inspect the bulk composition in mol% oxides expressed by\n",
    "# this rbi block: \n",
    "bch = tc.bulk_composition(rbi_sec).molepc_oxides\n",
    "bch"
   ]
  },
  {
   "cell_type": "markdown",
   "metadata": {},
   "source": [
    "Now for the other scripts:"
   ]
  },
  {
   "cell_type": "code",
   "execution_count": 27,
   "metadata": {},
   "outputs": [],
   "source": [
    "# Type of calculation\n",
    "context.script[\"pseudosection\"] = \"\"  # Calculation involves a bulk composition\n",
    "context.script[       \"dogmin\"] = \"0\" # Seek the most stable assemblage\n",
    "\n",
    "# Pressure and temperature (P,T)\n",
    "context.script[    \"diagramPT\"] = \"2 8 800 1200\"   # Pmin, Pmax, Tmin, Tmax; must\n",
    "                                                    # encompass desired P (kbar) and T (degC)\n",
    "context.script[        \"calcP\"] = \"5\"               # P for calc (kbar)\n",
    "context.script[        \"calcT\"] = \"1000\"            # T for calc (degC)\n",
    "# Phases and phase assemblages involved in the calculation.\n",
    "#\n",
    "\n",
    "context.script[        \"with\"] = \"hb bi pl opx cpx mt ilm ol q g liq\"  \n",
    "                     # Phases to consider:\n",
    "                     # hornblende, biotite,    <-- H2O-bearing phases; couldn't appear in previous calc \n",
    "                     # plagioclase, orthopyroxene, magnetite, spinel, ilmenite\n",
    "                     # olivine, quartz, melt\n",
    "context.script[    \"inexcess\"] = \"\"          # No phases are *assumed* to be in the assemblage \n",
    "context.script[    \"varrange\"] = \"6 6\"       # Min_variance, max_variance, of assemblages THERMOCALC \n",
    "                                             # should try. This limits the number of combinations \n",
    "                                             # of phases it should explore, and hence helps to reduce\n",
    "                                             # the length of a calculation.\n",
    "                        \n",
    "# Load a set of starting guesses for the compositions of the phases \n",
    "# from a file. To achieve this, we leverage the `thermocalc_script` class \n",
    "# which handles general THERMOCALC scripts, and then pull out the required section.\n",
    "guessfile=\"Eg1-bulk-comp-stable-assemblage/xyzguess2.txt\"\n",
    "start_guess_data = tc.thermocalc_script(filename=guessfile)\n",
    "context.script[\"samecoding\"] = start_guess_data[\"samecoding\"]\n",
    "context.script[\"xyzguess\"] = start_guess_data[\"xyzguess\"]\n",
    "\n",
    "# Load the rbi script\n",
    "context.script[\"rbi\"] = rbi_sec"
   ]
  },
  {
   "cell_type": "markdown",
   "metadata": {},
   "source": [
    "Call THERMOCALC:"
   ]
  },
  {
   "cell_type": "code",
   "execution_count": 28,
   "metadata": {},
   "outputs": [],
   "source": [
    "results = context.execute(timeout=100)"
   ]
  },
  {
   "cell_type": "code",
   "execution_count": 29,
   "metadata": {},
   "outputs": [
    {
     "name": "stdout",
     "output_type": "stream",
     "text": [
      "THERMOCALC 3.50 (Free Pascal version)\n",
      "\n",
      "summary output in the file, \"tc-rmdpbo-o.txt\"\n",
      "other (eg drawpd) output in the file, \"tc-rmdpbo-dr.txt\"\n",
      "details of calc results in the file, \"tc-rmdpbo-ic.txt\"\n",
      "initial tables in the file, \"tc-rmdpbo-it.txt\"\n",
      "csv format in the file, \"tc-rmdpbo.csv\"\n",
      "more csv format in the file, \"tc-rmdpbo2.csv\"\n",
      "(these files may not all be populated yet, depending on the calcs;\n",
      " thermocalc should delete empty files at the end of each run)\n",
      "^^^^^^^^^^^^^^^^^^^^^^^^^^^^^^^^^^^^^^^^^^^^^^^^^^^^^^^^^^^^\n",
      "\n",
      "THERMOCALC 3.50 running at 14.54 on Mon 1 Feb,2021\n",
      "using tc-ds633.txt produced at 20.37 on Fri 23 Jun,2017\n",
      "with axfile tc-ig50NCKFMASHTOCr.txt and scriptfile tc-rmdpbo.txt\n",
      "\n",
      "reading ax: liq fl pli plc ol ksp mu bi g ep cd opx cpx spn hb ilm ky q ru mt \n",
      "            sph sill san H2O an \n",
      "\n",
      "with: liq pl ol bi g opx cpx mt hb ilm q  (from script)\n",
      "no phases in excess (from script)\n",
      "\n",
      "specification of xyz starting guesses of phases\n",
      "in the scriptfile: liq pl ol bi g opx cpx mt hb ilm; not in the scriptfile: none\n",
      "\n",
      "specification of overall PT window:\n",
      "overall PT window is P: 2.0 to 8.0 kbar, and T: 800 to 1200íC (from script)\n",
      "\n",
      "running dogmin: min variance of equilibria is 6-variant; max variance is 6-variant\n",
      "\n",
      "specification of PT calcs:\n",
      "P at which equilibria to be calculated: 5.000 kbar (from script)\n",
      "T at which equilibria to be calculated: 1000.00íC (from script)\n",
      "\n",
      "specification of bulk composition\n",
      "composition (from rbi script)\n",
      "      H2O     SiO2    Al2O3      CaO      MgO     FeOt      K2O     Na2O     TiO2        O\n",
      "   4.9488  50.3536   8.7361  11.7305  12.2058   7.8235   0.2186   2.5096   1.0077   0.4658\n",
      "@@@@@@@@\n",
      "##########################################################\n",
      "Gibbs energy minimisation gives the 6-variant assemblage liq pl opx cpx hb ilm \n",
      "with no in excess phases, also trying assemblages involving ol bi g mt q\n",
      "\n",
      "   P(kbar)     T(íC)     wo(L)     sl(L)     fo(L)     fa(L)     jd(L)     hm(L)     ti(L)     kj(L)    yct(L)    h2o(L\n",
      "    ca(pl)     k(pl)    x(opx)    y(opx)    c(opx)    Q(opx)    f(opx)    t(opx)    j(opx)    x(cpx)    y(cpx)    o(cpx\n",
      "    n(cp#\n",
      "    5.0000  1000.000    0.1276   0.07334   0.03707   0.03871    0.2217   0.01554   0.02029   0.02961   0.03728    0.343\n",
      "    0.7650  0.002002    0.3196    0.1173   0.07859   -0.1513   0.04539  0.006345  0.003181    0.2749   0.06156    0.199\n",
      "   0.063#\n",
      "                        Q(cpx)    f(cpx)    t(cpx)    k(cpx)     x(hb)     y(hb)     z(hb)     a(hb)     k(hb)     c(hb\n",
      "     f(hb)     t(hb)    Q1(hb)    Q2(hb)    x(ilm)    Q(ilm)\n",
      "                      -0.05984   0.04676   0.01173  0.001946    0.2714    0.3499   0.01133    0.8484   0.01391    0.751\n",
      "    0.2123    0.1838   0.02868   0.09376    0.8819    0.6631\n",
      "\n",
      "mode       liq        pl       opx       cpx        hb       ilm\n",
      "        0.3422    0.2546    0.1154    0.2428    0.0342    0.0107\n",
      "\n",
      "============================================================\n",
      "elapsed = 23.8 secs\n",
      "\n"
     ]
    }
   ],
   "source": [
    "context.print_output()"
   ]
  },
  {
   "cell_type": "code",
   "execution_count": 30,
   "metadata": {},
   "outputs": [
    {
     "data": {
      "text/plain": [
       "               H2O       SiO2      Al2O3     CaO       MgO       FeOt      K2O       Na2O      TiO2      O\n",
       "liq  0.34218   0.353234  1.259328  0.204557  0.131209  0.152431  0.175143  0.015219  0.113953  0.020853  0.007986\n",
       "pl   0.25465   0.0       2.235018  0.882491  0.764982  0.0       0.0       0.001001  0.116508  0.0       0.0\n",
       "opx  0.115445  0.0       1.882739  0.089811  0.078585  1.227566  0.621962  0.0       0.00159   0.006345  0.022695\n",
       "cpx  0.242759  0.0       1.938436  0.059089  0.735481  0.786156  0.344756  0.000973  0.031659  0.011729  0.023379\n",
       "hb   0.034246  0.816219  5.682433  1.508634  1.502148  2.902042  1.505878  0.005899  0.429614  0.367561  0.212309\n",
       "ilm  0.01072   0.0       0.0       0.0       0.0       0.0       1.118087  0.0       0.0       0.881913  0.118087"
      ]
     },
     "execution_count": 30,
     "metadata": {},
     "output_type": "execute_result"
    }
   ],
   "source": [
    "rbi_out = results.rbi\n",
    "rbi_out"
   ]
  },
  {
   "cell_type": "markdown",
   "metadata": {},
   "source": [
    "Compare the new stable assemblage with that in the dry rock:\n",
    "\n",
    ">  pl  opx  cpx  mt  ilm.\n",
    "\n",
    "We see that:\n",
    "- The amphibole hornblende (hb) has now joined plagioclase and the two pyroxenes.\n",
    "- The pure H2O that we added to the rbi block above is not present in the stable assemblage. Instead, the rock has undergone partial melting in response to the addition of the aqueous fluid, and silicate melt (liq) is now abundant (~1/3 per-atom) in the assemblage."
   ]
  },
  {
   "cell_type": "code",
   "execution_count": 31,
   "metadata": {},
   "outputs": [
    {
     "data": {
      "text/plain": [
       "     mode        f           G            H            S        V         rho\n",
       "liq  0.34217993  0.39355561  -2225.0383   -1718.9701   0.3975   5.58223   2.49463\n",
       "pl   0.25464974  0.21906211  -4607.7019   -3819.9133   0.6188   10.22074  2.68546\n",
       "opx  0.11544483  0.28478075  -3249.9432   -2624.4651   0.4913   6.55032   3.38620\n",
       "cpx  0.24275918  0.28478075  -3403.8453   -2781.8012   0.4886   6.77582   3.29922\n",
       "hb   0.03424622  0.06865364  -13558.3451  -10959.3144  2.0414   28.00837  3.13926\n",
       "ilm  0.01072010  0.56956149  -1410.7919   -1038.0433   0.2928   3.25196   4.69474\n",
       "sys  -           -           -939.33191   -755.28130   0.14456  2.09139   2.85986"
      ]
     },
     "execution_count": 31,
     "metadata": {},
     "output_type": "execute_result"
    }
   ],
   "source": [
    "results.thermodynamic_properties"
   ]
  },
  {
   "cell_type": "markdown",
   "metadata": {},
   "source": [
    "Supposing all of the melt now escapes the system (an extreme scenario), how much does this modify the chemistry of the remaining system?"
   ]
  },
  {
   "cell_type": "code",
   "execution_count": 32,
   "metadata": {},
   "outputs": [
    {
     "data": {
      "text/plain": [
       "               H2O       SiO2      Al2O3     CaO       MgO       FeOt      K2O       Na2O      TiO2      O\n",
       "liq  0.        0.353234  1.259328  0.204557  0.131209  0.152431  0.175143  0.015219  0.113953  0.020853  0.007986\n",
       "pl   0.25465   0.0       2.235018  0.882491  0.764982  0.0       0.0       0.001001  0.116508  0.0       0.0\n",
       "opx  0.115445  0.0       1.882739  0.089811  0.078585  1.227566  0.621962  0.0       0.00159   0.006345  0.022695\n",
       "cpx  0.242759  0.0       1.938436  0.059089  0.735481  0.786156  0.344756  0.000973  0.031659  0.011729  0.023379\n",
       "hb   0.034246  0.816219  5.682433  1.508634  1.502148  2.902042  1.505878  0.005899  0.429614  0.367561  0.212309\n",
       "ilm  0.01072   0.0       0.0       0.0       0.0       0.0       1.118087  0.0       0.0       0.881913  0.118087"
      ]
     },
     "execution_count": 32,
     "metadata": {},
     "output_type": "execute_result"
    }
   ],
   "source": [
    "rbi_out['liq']['mode'] = '0.'                       # set melt mode to 0\n",
    "rbi_out                                             "
   ]
  },
  {
   "cell_type": "code",
   "execution_count": 33,
   "metadata": {},
   "outputs": [
    {
     "name": "stdout",
     "output_type": "stream",
     "text": [
      "oxides            H2O    SiO2  Al2O3  CaO    MgO   FeOt  K2O   Na2O  TiO2  O\n",
      "before melt loss  50.35  8.74  11.73  12.21  7.82  0.22  2.51  1.01  0.47\n",
      "after melt loss   49.68  8.90  14.82  15.10  8.13  0.02  1.45  1.08  0.53\n"
     ]
    }
   ],
   "source": [
    "# Compare the bulk composition in mole% oxides before and after melt loss\n",
    "\n",
    "# calculate new system bulk comp in mole% oxides\n",
    "bcn = tc.bulk_composition(rbi_out).molepc_oxides     \n",
    "                                                     \n",
    "\n",
    "# format for printing\n",
    "bn = [\"after melt loss\"]+[ \"{:0.2f}\".format(bcn[ox]) for ox in oxides ]\n",
    "bh = [\"before melt loss\"]+[ \"{:0.2f}\".format(bch[ox]) for ox in oxides ]\n",
    "col = [\"oxides\"] + tc.deconstruct_rbi(rbi_out).oxides\n",
    "from tabulate import tabulate\n",
    "bctable = tabulate([col,bh,bn],tablefmt=\"plain\")\n",
    "print(bctable)"
   ]
  },
  {
   "cell_type": "markdown",
   "metadata": {},
   "source": [
    "As expected, melt loss results in the extensive depletion of incompatible oxides (e.g. H2O, K2O) in the system, while having little effect on the compatible oxides."
   ]
  }
 ],
 "metadata": {
  "kernelspec": {
   "display_name": "Python 3",
   "language": "python",
   "name": "python3"
  },
  "language_info": {
   "codemirror_mode": {
    "name": "ipython",
    "version": 3
   },
   "file_extension": ".py",
   "mimetype": "text/x-python",
   "name": "python",
   "nbconvert_exporter": "python",
   "pygments_lexer": "ipython3",
   "version": "3.8.5"
  }
 },
 "nbformat": 4,
 "nbformat_minor": 4
}
