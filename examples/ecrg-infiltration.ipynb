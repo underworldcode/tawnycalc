{
 "cells": [
  {
   "cell_type": "markdown",
   "metadata": {},
   "source": [
    "### Fluid infiltration and loss\n",
    "\n",
    "This will ultimately be a key example, because it's very relevant to subduction zones, which are probably the most dramatic context in which geophysics and geochemistry should interplay.\n",
    "\n",
    "At the beginning of each step we are introducing a fluid phase - i.e. a mobile phase that is able to redistribute chemical components via fractionation and transport. The introduced fluid phase modifies the rbi object prior to the THERMOCALC calculation, i.e. the change of bulk composition caused by the infiltration of fluid causes a change in the phase assemblage. However, normally we would expect that there would still be some sort of fluid present in the new assemblage, probably a silicate melt - and we will then remove that.\n",
    "\n",
    "At the coarsest scale, we could envisage that the \"system\" is in the mantle wedge. The infiltrating fluid represents an aqueous fluid arriving in the mantle wedge, having been lost from the top of the downgoing slab as it heats up and dehydrates. The fluid that is lost represents magma that continues upwards towards the volcanic arc.\n",
    "\n",
    "More generally, this represents a general calc at one point on a spatial grid that needs to have its chemical variables associated with those at other points.\n",
    "\n",
    "To notice in this file: for now, just that we are adding to the initial rbi construct within the PT_step loop.\n",
    "\n",
    "I will focus on working up this example."
   ]
  },
  {
   "cell_type": "code",
   "execution_count": 1,
   "metadata": {},
   "outputs": [],
   "source": [
    "import tawnycalc as tc"
   ]
  },
  {
   "cell_type": "code",
   "execution_count": 2,
   "metadata": {},
   "outputs": [],
   "source": [
    "# set up path taken and phases added/removed\n",
    "removal_fraction = {}\n",
    "removal_fraction[\"g\"] = 0.8\n",
    "removal_fraction[\"bi\"] = -0.1\n",
    "\n",
    "PT_steps = []\n",
    "PT_steps.append( (11.0, 600 ) )\n",
    "#PT_steps.append( (12.0, 630 ) )\n",
    "#PT_steps.append( (12.2, 650 ) )\n",
    "#PT_steps.append( (11.5, 670 ) )\n",
    "#PT_steps.append( (10.0, 660 ) )"
   ]
  },
  {
   "cell_type": "code",
   "execution_count": 3,
   "metadata": {},
   "outputs": [
    {
     "data": {
      "text/plain": [
       "calcmode   : 1\n",
       "scriptfile : sukwcu\n",
       "dataset    : None"
      ]
     },
     "execution_count": 3,
     "metadata": {},
     "output_type": "execute_result"
    }
   ],
   "source": [
    "# To start with a clean context, set `scripts_dir=None`\n",
    "context = tc.Context(scripts_dir=None)\n",
    "context.prefs"
   ]
  },
  {
   "cell_type": "code",
   "execution_count": 4,
   "metadata": {},
   "outputs": [],
   "source": [
    "# Set the required dataset on the `prefs` dictionary.\n",
    "context.prefs[\"dataset\"] = 62"
   ]
  },
  {
   "cell_type": "code",
   "execution_count": 5,
   "metadata": {},
   "outputs": [],
   "source": [
    "context.script[       \"axfile\"] = \"mb50NCKFMASHTO\"\n",
    "context.script[         \"with\"] = \"chl bi pa ru g ilmm sph\"  # replaces 'which'\n",
    "context.script[     \"inexcess\"] = \"mu q H2O\"\n",
    "context.script[       \"dogmin\"] = \"1\"                 # replaces 'dogmin yes 1'\n",
    "context.script[       \"maxvar\"] = \"6\"                 # replaces 'setmaxvar'\n",
    "context.script[    \"diagramPT\"] = \"2 20 400 1100\"     # new script\n",
    "# context.script[        \"calcP\"] = \"11\"              # replaces 'setPwindow 11 11'\n",
    "# context.script[        \"calcT\"] = \"600\"             # replaces 'setTwindow 600 600'\n",
    "context.script[\"pseudosection\"] = \"\"                  # replaces 'pseudosection yes'\n",
    "context.script[   \"samecoding\"] = [\"mu pa\", \"sp mt\"]  # "
   ]
  },
  {
   "cell_type": "code",
   "execution_count": 6,
   "metadata": {},
   "outputs": [],
   "source": [
    "# Add 'rbi' section.\n",
    "# We have specific `rbi` object that we use to achieve this. \n",
    "# Let's create rbi object, noting how we provide the oxide list at construction time:\n",
    "oxidestr = \"  H2O SiO2 Al2O3 CaO MgO FeO K2O Na2O TiO2 O\"\n",
    "rbi_sec = tc.rbi(oxides=oxidestr)"
   ]
  },
  {
   "cell_type": "code",
   "execution_count": 7,
   "metadata": {},
   "outputs": [
    {
     "name": "stdout",
     "output_type": "stream",
     "text": [
      "Help on method add_phase in module tawnycalc.data_objects:\n",
      "\n",
      "add_phase(phase, mode, oxides) method of tawnycalc.data_objects.rbi instance\n",
      "    Add a phase to the rbi table. \n",
      "    \n",
      "    Params\n",
      "    ------\n",
      "    phase:  str\n",
      "        Name of phase to add. \n",
      "    mode: str, float\n",
      "        Mode/proportion of phase.\n",
      "    oxides: str,list\n",
      "        Proportion of each oxide for phase.\n",
      "\n"
     ]
    }
   ],
   "source": [
    "# Now we need to add the individual phases.\n",
    "# We will use the `add_phase` method to achieve this. \n",
    "# We supply the `phase` name, `mode` data, and finally\n",
    "# `oxides` as a string or list\n",
    "#\n",
    "# Strings and floats can generally be used interchangeably.\n",
    "#\n",
    "help(rbi_sec.add_phase)"
   ]
  },
  {
   "cell_type": "code",
   "execution_count": 8,
   "metadata": {
    "scrolled": true
   },
   "outputs": [],
   "source": [
    "# Construct initial bulk composition\n",
    "\n",
    "rbi_sec.add_phase(  \"g\",  \"0.02\"     , \"       0    3.000000    0.984049    0.230147    0.395429    2.406326           0           0           0    0.015951\")\n",
    "rbi_sec.add_phase( \"mu\",  \"0.159799\", \"1.000000    3.102219    1.393080    0.004483    0.058473    0.053149    0.386538    0.111220           0    0.002460\")\n",
    "rbi_sec.add_phase( \"pa\",  \"0.006915\", \"       1    2.984010    1.505704    0.019628    0.001993    0.002589    0.033770    0.456416           0    0.000473\")\n",
    "rbi_sec.add_phase( \"bi\",  \"0.090237\", \"0.932353    2.842048    0.636750           0    1.244448    1.572357    0.500000           0    0.067647    0.021202\")\n",
    "rbi_sec.add_phase(\"ilmm\",  \"0.004242\", \"       0           0           0           0    0.011126    1.032649           0           0    0.956225    0.043775\")\n",
    "rbi_sec.add_phase(  \"q\",  \"0.240992\", \"       0           1           0           0           0           0           0           0           0           0\")\n",
    "rbi_sec.add_phase(\"H2O\",  \"0.458826\", \"       1           0           0           0           0           0           0           0           0           0\")\n",
    "\n",
    "context.script[\"rbi\"] = rbi_sec   "
   ]
  },
  {
   "cell_type": "code",
   "execution_count": 9,
   "metadata": {},
   "outputs": [],
   "source": [
    "# Now create xyzguess section.  \n",
    "# We use the `xyz` object this time. \n",
    "# It is really just a Python `OrderedDict`.\n",
    "# First create a dictionary to record values\n",
    "xyzguess = tc.xyz()\n",
    "# Now add values\n",
    "xyzguess[    \"x(g)\"] = \"0.885508\"\n",
    "xyzguess[    \"z(g)\"] = \"0.211255\"\n",
    "xyzguess[    \"f(g)\"] = \"0.070810\"\n",
    "xyzguess[   \"x(bi)\"] = \"0.579607\"\n",
    "xyzguess[   \"y(bi)\"] = \"0.140313\"\n",
    "xyzguess[   \"f(bi)\"] = \"0.126258\"\n",
    "xyzguess[   \"t(bi)\"] = \"0.072042\"\n",
    "xyzguess[   \"Q(bi)\"] = \"0.121282\"\n",
    "xyzguess[   \"x(mu)\"] = \"0.461998\"\n",
    "xyzguess[   \"y(mu)\"] = \"0.944788\"\n",
    "xyzguess[   \"f(mu)\"] = \"0.009495\"\n",
    "xyzguess[   \"n(mu)\"] = \"0.253509\"\n",
    "xyzguess[   \"c(mu)\"] = \"0.016160\"\n",
    "xyzguess[   \"x(pa)\"] = \"0.461998\"\n",
    "xyzguess[   \"y(pa)\"] = \"0.996868\"\n",
    "xyzguess[   \"f(pa)\"] = \"0.002376\"\n",
    "xyzguess[   \"n(pa)\"] = \"0.955475\"\n",
    "xyzguess[   \"c(pa)\"] = \"0.038175\"\n",
    "xyzguess[   \"x(ma)\"] = \"0.461998\"\n",
    "xyzguess[   \"y(ma)\"] = \"0.964236\"\n",
    "xyzguess[   \"f(ma)\"] = \"0.009701\"\n",
    "xyzguess[   \"n(ma)\"] = \"0.054672\"\n",
    "xyzguess[   \"c(ma)\"] = \"0.944410\"\n",
    "xyzguess[  \"x(chl)\"] = \"0.473331\"\n",
    "xyzguess[  \"y(chl)\"] = \"0.520964\"\n",
    "xyzguess[  \"f(chl)\"] = \"0.248348\"\n",
    "xyzguess[\"QAl(chl)\"] = \"0.230540  range -1.000 1.000\"\n",
    "xyzguess[ \"Q1(chl)\"] = \"0.077845  range -1.000 1.000\"\n",
    "xyzguess[ \"Q4(chl)\"] = \"0.092301  range -1.000 1.000\"\n",
    "xyzguess[   \"f(ep)\"] = \"0.264635\"\n",
    "xyzguess[   \"Q(ep)\"] = \"0.250072  range  0.000 0.500\"\n",
    "xyzguess[  \"i(ilmm)\"] = \"0.829808\"\n",
    "xyzguess[  \"g(ilmm)\"] = \"0.017481\"\n",
    "xyzguess[  \"Q(ilmm)\"] = \"0.760053  range -0.990 0.990\"\n",
    "xyzguess[  \"x(mt1)\"] = \"0.762081\"\n",
    "xyzguess[  \"Q(mt1)\"] = \"0.808179\"\n",
    "\n",
    "context.script[\"xyzguess\"] = xyzguess"
   ]
  },
  {
   "cell_type": "code",
   "execution_count": 10,
   "metadata": {},
   "outputs": [
    {
     "name": "stdout",
     "output_type": "stream",
     "text": [
      "Executing for P,T = 11.0,600\n",
      "Phase bi before = 0.102174 after = 0.11239140000000002\n"
     ]
    }
   ],
   "source": [
    "modes = []\n",
    "step = 0\n",
    "for P,T in PT_steps:\n",
    "    # set required windows\n",
    "    context.script[\"calcP\"] = \"{}\".format(P)\n",
    "    context.script[\"calcT\"] = \"{}\".format(T)\n",
    "    \n",
    "    # add an infiltrating fluid to the rbi\n",
    "    rbi_current = context.script[\"rbi\"]\n",
    "    rbi_current.add_phase(\"fl\",  \"0.07\", \"  1    0     0     0     0     0    0.05    0     0    0\")\n",
    "    context.script[\"rbi\"] = rbi_current\n",
    "    \n",
    "    # execute\n",
    "    results = context.execute()\n",
    "    modes.append((results.modes,step))\n",
    "    \n",
    "    # set resultant rbi back on script\n",
    "    print(\"Executing for P,T = {},{}\".format(P,T))\n",
    "    context.script[\"rbi\"] = results.rbi\n",
    "\n",
    "    # remove required phases\n",
    "    for phase, removal_frac in removal_fraction.items():\n",
    "        if phase in context.script[\"rbi\"].keys():\n",
    "            phase_post_solve = context.script[\"rbi\"][phase][\"mode\"] \n",
    "            context.script[\"rbi\"][phase][\"mode\"] *= (1.-removal_frac)\n",
    "            print(\"Phase {} before = {} after = {}\".format(phase, phase_post_solve, context.script[\"rbi\"][phase][\"mode\"] ))\n",
    "            # get rid of it here too for viz purposes\n",
    "    \n",
    "    # record new values to new dict for viz purposes\n",
    "    final_modes = {}\n",
    "    for key,val in context.script[\"rbi\"].items():\n",
    "        final_modes[key] = val[\"mode\"]\n",
    "    modes.append((final_modes,step))\n",
    "    step += 1\n",
    "    \n"
   ]
  },
  {
   "cell_type": "code",
   "execution_count": 11,
   "metadata": {},
   "outputs": [],
   "source": [
    "# Now we have a complete configuration, let's execute. \n",
    "# results = context.execute(print_output=True)"
   ]
  }
 ],
 "metadata": {
  "kernelspec": {
   "display_name": "Python 3",
   "language": "python",
   "name": "python3"
  },
  "language_info": {
   "codemirror_mode": {
    "name": "ipython",
    "version": 3
   },
   "file_extension": ".py",
   "mimetype": "text/x-python",
   "name": "python",
   "nbconvert_exporter": "python",
   "pygments_lexer": "ipython3",
   "version": "3.8.5"
  }
 },
 "nbformat": 4,
 "nbformat_minor": 4
}
