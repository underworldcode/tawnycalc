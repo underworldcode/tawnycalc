{
 "cells": [
  {
   "cell_type": "markdown",
   "metadata": {},
   "source": [
    "### Isobaric fractional crystallisation\n",
    "New operational ideas in here:\n",
    "- Playing around somewhat differently with construction of PT_steps and the list of possible phases\n",
    "- Reading in the xyzguess block from a text file. This format will typically be simpler for those coming from the THERMOCALC end. \n",
    "- THERMOCALC runs are veeeeery long here. We save the results out to disk here to allow job resumption. Note that the scripts themselves can also be loaded/saved, and it's up to the user to orchestrate saving/load/restarting of their simulations.   "
   ]
  },
  {
   "cell_type": "code",
   "execution_count": 1,
   "metadata": {},
   "outputs": [],
   "source": [
    "import os\n",
    "import tawnycalc as tc\n",
    "\n",
    "rerun_all = False  # rerun results even if previous calculations available on disk."
   ]
  },
  {
   "cell_type": "code",
   "execution_count": 2,
   "metadata": {},
   "outputs": [
    {
     "data": {
      "text/plain": [
       "[(4.0, 1000), (4.0, 900), (4.0, 800), (4.0, 700)]"
      ]
     },
     "execution_count": 2,
     "metadata": {},
     "output_type": "execute_result"
    }
   ],
   "source": [
    "# define constant pressure and range/interval in temperature\n",
    "Pfrac = 4.0\n",
    "Tstart = 1100\n",
    "Tend = 700\n",
    "Tint = 100\n",
    "\n",
    "PT_steps = []\n",
    "[ PT_steps.append( (Pfrac,t) ) for t in range(Tend,Tstart,Tint) ]\n",
    "PT_steps.reverse()\n",
    "PT_steps"
   ]
  },
  {
   "cell_type": "code",
   "execution_count": 3,
   "metadata": {},
   "outputs": [],
   "source": [
    "# Define phases to be considered in G-minimisation\n",
    "\n",
    "# all phases as single string\n",
    "phasestr = \"cpx opx spn g plc ksp ilm bi q fl liq\"\n",
    "\n",
    "# crystalline phases (to be removed) as list\n",
    "crystphases = list(set(phasestr.split()) - set( [\"liq\",\"fl\"] ))   "
   ]
  },
  {
   "cell_type": "code",
   "execution_count": 4,
   "metadata": {},
   "outputs": [
    {
     "data": {
      "text/plain": [
       "calcmode   : 1\n",
       "scriptfile : mcnpkn\n",
       "dataset    : None"
      ]
     },
     "execution_count": 4,
     "metadata": {},
     "output_type": "execute_result"
    }
   ],
   "source": [
    "# To start with a clean context, set `scripts_dir=None`\n",
    "context = tc.Context(scripts_dir=None)\n",
    "context.prefs"
   ]
  },
  {
   "cell_type": "code",
   "execution_count": 5,
   "metadata": {},
   "outputs": [],
   "source": [
    "# Set the required dataset on the `prefs` dictionary.\n",
    "context.prefs[\"dataset\"] = 633"
   ]
  },
  {
   "cell_type": "code",
   "execution_count": 6,
   "metadata": {},
   "outputs": [],
   "source": [
    "# Additional scripts\n",
    "\n",
    "context.script[       \"axfile\"] = \"ig50NCKFMASHTOCr\"\n",
    "context.script[         \"with\"] = phasestr  # replaces 'which'\n",
    "context.script[       \"dogmin\"] = \"1\"                 # replaces 'dogmin yes 1'\n",
    "context.script[       \"maxvar\"] = \"12\"                 # replaces 'setmaxvar'\n",
    "context.script[    \"diagramPT\"] = \"2 20 400 1100\"     # new script\n",
    "context.script[\"pseudosection\"] = \"\"                  # replaces 'pseudosection yes'\n",
    "context.script[   \"samecoding\"] = [\"spn cm\"]  # "
   ]
  },
  {
   "cell_type": "code",
   "execution_count": 7,
   "metadata": {},
   "outputs": [],
   "source": [
    "# Define the initial bulk composition. \n",
    "# This is done in 'rbi' form, i.e. by setting the modes and compositions\n",
    "# of the individual phases, to be summed by THERMOCALC:\n",
    "#  rbi_sec.add_phase(\"<phase 1>\", \"<mode>\", \"<oxide values>\")\n",
    "#  rbi_sec.add_phase(\"<phase 1>\", \"<mode>\", \"<oxide values>\")\n",
    "#    ....\n",
    "# Alternatively, the user can set up the bulk composition as a single string:\n",
    "#  rbi_sec.add_phase(\"blah\", \"1\", \"<oxide values>\")\n",
    "\n",
    "rbi_sec = tc.rbi(oxides=\"  H2O SiO2 Al2O3 CaO MgO FeO K2O Na2O TiO2 O Cr2O3\")\n",
    "rbi_sec.add_phase(  \"liq\",  \"1\"     , \"0.8  81.93   8.65  1.16   0.16  0.57   3.19  4.21   0.12   0.04   0.01\")\n",
    "context.script[\"rbi\"] = rbi_sec"
   ]
  },
  {
   "cell_type": "code",
   "execution_count": 8,
   "metadata": {},
   "outputs": [
    {
     "data": {
      "text/plain": [
       "xyzguess :\n",
       "    wo(L)   : 0.107216  \n",
       "    sl(L)   : 0.0873506 \n",
       "    fo(L)   : 0.0142023 \n",
       "    fa(L)   : 0.0109878 \n",
       "    jd(L)   : 0.151907  \n",
       "    hm(L)   : 0.00154624\n",
       "    ek(L)   : 9.81910e-6\n",
       "    ti(L)   : 0.00413534\n",
       "    kj(L)   : 0.0368694 \n",
       "    yct(L)  : 0.0885231 \n",
       "    h2o(L)  : 0.219727  \n",
       "    wo(fl)  : 0.000103865\n",
       "    sl(fl)  : 5.87807e-5\n",
       "    fo(fl)  : 1.41812e-8\n",
       "    fa(fl)  : 3.11791e-8\n",
       "    jd(fl)  : 0.000862050\n",
       "    hm(fl)  : 0.000159068\n",
       "    ek(fl)  : 3.29610e-7\n",
       "    ti(fl)  : 0.000162396\n",
       "    kj(fl)  : 0.00562408\n",
       "    h2o(fl) : 0.985936  \n",
       "    ca(plc) : 0.6       \n",
       "    k(plc)  : 0.0116338 \n",
       "    x(ol)   : 0.102434  \n",
       "    c(ol)   : 0.00275804\n",
       "    Q(ol)   : 0.000156353\n",
       "    x(opx)  : 0.0956777 \n",
       "    y(opx)  : 0.182193   range      0.000      2.000     \n",
       "    c(opx)  : 0.0489271 \n",
       "    Q(opx)  : -0.0475598 range      -1.000     1.000     \n",
       "    f(opx)  : 0.0177886 \n",
       "    t(opx)  : 0.00823030\n",
       "    cr(opx) : 0.0205952 \n",
       "    j(opx)  : 0.00906326\n",
       "    x(cpx)  : 0.0964208 \n",
       "    y(cpx)  : 0.0825558  range      0.000      2.000     \n",
       "    o(cpx)  : 0.219892  \n",
       "    n(cpx)  : 0.118338  \n",
       "    Q(cpx)  : -0.0282419 range      -1.000     1.000     \n",
       "    f(cpx)  : 0.0209603 \n",
       "    cr(cpx) : 0.0154784 \n",
       "    t(cpx)  : 0.0127859 \n",
       "    k(cpx)  : 0.00527429\n",
       "    x(spn)  : 0.14499   \n",
       "    y(spn)  : 0.01398   \n",
       "    c(spn)  : 0.04504   \n",
       "    t(spn)  : 0.01114   \n",
       "    Q1(spn) : 0.50372    range      -1         1         \n",
       "    Q2(spn) : 0.08077    range      -1         1         \n",
       "    Q3(spn) : 0.02183    range      -1         1         \n",
       "    na(ksp) : 0.1       \n",
       "    ca(ksp) : 0.004     \n",
       "    x(bi)   : 0.457528  \n",
       "    y(bi)   : 0.0772161 \n",
       "    f(bi)   : 0.0158764 \n",
       "    t(bi)   : 0.119336  \n",
       "    Q(bi)   : 0.228603  \n",
       "    x(g)    : 0.455851  \n",
       "    c(g)    : 0.286243  \n",
       "    f(g)    : 0.00253871\n",
       "    cr(g)   : 0.000841005\n",
       "    t(g)    : 0.0113394 "
      ]
     },
     "execution_count": 8,
     "metadata": {},
     "output_type": "execute_result"
    }
   ],
   "source": [
    "# Create xyzguess section, reading from local file\n",
    "# (easier route for people coming from the thermocalc end!)\n",
    "\n",
    "# First create an empty thermocalc_script object. These objects\n",
    "# will handle reading of data from tc script files.\n",
    "xyzguess_script = tc.thermocalc_script()\n",
    "xyzfile=os.path.join(os.getcwd(), \"ecrg-frac-xtn-xyzguess.txt\")\n",
    "# Load xyzguess data now\n",
    "xyzguess_script.load(xyzfile)\n",
    "# Check\n",
    "xyzguess_script"
   ]
  },
  {
   "cell_type": "code",
   "execution_count": 9,
   "metadata": {},
   "outputs": [],
   "source": [
    "# Now set data onto the context's script\n",
    "context.script[\"xyzguess\"] = xyzguess_script[\"xyzguess\"]"
   ]
  },
  {
   "cell_type": "code",
   "execution_count": 10,
   "metadata": {},
   "outputs": [
    {
     "data": {
      "text/plain": [
       "axfile        : ig50NCKFMASHTOCr\n",
       "autoexit      : yes\n",
       "with          : cpx opx spn g plc ksp ilm bi q fl liq\n",
       "dogmin        : 1\n",
       "maxvar        : 12\n",
       "diagramPT     : 2 20 400 1100\n",
       "pseudosection : \n",
       "samecoding :\n",
       "    spn cm\n",
       "\n",
       "rbi :\n",
       "          H2O  SiO2   Al2O3  CaO   MgO   FeO   K2O   Na2O  TiO2  O     Cr2O3\n",
       "liq  1.0  0.8  81.93  8.65   1.16  0.16  0.57  3.19  4.21  0.12  0.04  0.01\n",
       "\n",
       "xyzguess :\n",
       "    wo(L)   : 0.107216  \n",
       "    sl(L)   : 0.0873506 \n",
       "    fo(L)   : 0.0142023 \n",
       "    fa(L)   : 0.0109878 \n",
       "    jd(L)   : 0.151907  \n",
       "    hm(L)   : 0.00154624\n",
       "    ek(L)   : 9.81910e-6\n",
       "    ti(L)   : 0.00413534\n",
       "    kj(L)   : 0.0368694 \n",
       "    yct(L)  : 0.0885231 \n",
       "    h2o(L)  : 0.219727  \n",
       "    wo(fl)  : 0.000103865\n",
       "    sl(fl)  : 5.87807e-5\n",
       "    fo(fl)  : 1.41812e-8\n",
       "    fa(fl)  : 3.11791e-8\n",
       "    jd(fl)  : 0.000862050\n",
       "    hm(fl)  : 0.000159068\n",
       "    ek(fl)  : 3.29610e-7\n",
       "    ti(fl)  : 0.000162396\n",
       "    kj(fl)  : 0.00562408\n",
       "    h2o(fl) : 0.985936  \n",
       "    ca(plc) : 0.6       \n",
       "    k(plc)  : 0.0116338 \n",
       "    x(ol)   : 0.102434  \n",
       "    c(ol)   : 0.00275804\n",
       "    Q(ol)   : 0.000156353\n",
       "    x(opx)  : 0.0956777 \n",
       "    y(opx)  : 0.182193   range      0.000      2.000     \n",
       "    c(opx)  : 0.0489271 \n",
       "    Q(opx)  : -0.0475598 range      -1.000     1.000     \n",
       "    f(opx)  : 0.0177886 \n",
       "    t(opx)  : 0.00823030\n",
       "    cr(opx) : 0.0205952 \n",
       "    j(opx)  : 0.00906326\n",
       "    x(cpx)  : 0.0964208 \n",
       "    y(cpx)  : 0.0825558  range      0.000      2.000     \n",
       "    o(cpx)  : 0.219892  \n",
       "    n(cpx)  : 0.118338  \n",
       "    Q(cpx)  : -0.0282419 range      -1.000     1.000     \n",
       "    f(cpx)  : 0.0209603 \n",
       "    cr(cpx) : 0.0154784 \n",
       "    t(cpx)  : 0.0127859 \n",
       "    k(cpx)  : 0.00527429\n",
       "    x(spn)  : 0.14499   \n",
       "    y(spn)  : 0.01398   \n",
       "    c(spn)  : 0.04504   \n",
       "    t(spn)  : 0.01114   \n",
       "    Q1(spn) : 0.50372    range      -1         1         \n",
       "    Q2(spn) : 0.08077    range      -1         1         \n",
       "    Q3(spn) : 0.02183    range      -1         1         \n",
       "    na(ksp) : 0.1       \n",
       "    ca(ksp) : 0.004     \n",
       "    x(bi)   : 0.457528  \n",
       "    y(bi)   : 0.0772161 \n",
       "    f(bi)   : 0.0158764 \n",
       "    t(bi)   : 0.119336  \n",
       "    Q(bi)   : 0.228603  \n",
       "    x(g)    : 0.455851  \n",
       "    c(g)    : 0.286243  \n",
       "    f(g)    : 0.00253871\n",
       "    cr(g)   : 0.000841005\n",
       "    t(g)    : 0.0113394 "
      ]
     },
     "execution_count": 10,
     "metadata": {},
     "output_type": "execute_result"
    }
   ],
   "source": [
    "context.script"
   ]
  },
  {
   "cell_type": "code",
   "execution_count": 11,
   "metadata": {},
   "outputs": [
    {
     "name": "stdout",
     "output_type": "stream",
     "text": [
      "Executing for P,T = 4.0,1000\n",
      "Phase ksp before = 0.257009 after = 0.0\n",
      "Phase q before = 0.050473 after = 0.0\n",
      "Executing for P,T = 4.0,900\n",
      "Phase spn before = 0.001287 after = 0.0\n",
      "Phase ksp before = 0.44996 after = 0.0\n",
      "Phase ilm before = 0.002231 after = 0.0\n",
      "Phase q before = 0.314081 after = 0.0\n",
      "Executing for P,T = 4.0,800\n",
      "Phase ksp before = 0.221925 after = 0.0\n",
      "Phase ilm before = 0.003119 after = 0.0\n",
      "Phase opx before = 0.037208 after = 0.0\n",
      "Phase q before = 0.224852 after = 0.0\n",
      "Phase plc before = 0.082258 after = 0.0\n",
      "Executing for P,T = 4.0,700\n",
      "Phase ksp before = 0.136705 after = 0.0\n",
      "Phase ilm before = 0.000752 after = 0.0\n",
      "Phase bi before = 0.051837 after = 0.0\n",
      "Phase q before = 0.200401 after = 0.0\n",
      "Phase plc before = 0.082663 after = 0.0\n"
     ]
    }
   ],
   "source": [
    "# Now, we will simulate fractional crystallisation, \n",
    "# on each step removing all of the crystalline phases \n",
    "# that are present in the assemblage.\n",
    "\n",
    "removal_fraction = {}\n",
    "for ph in crystphases:\n",
    "    removal_fraction[ph] = 1\n",
    "\n",
    "# create outputs directory\n",
    "basename = \"ecrg-frac-xtn-output\"\n",
    "os.makedirs(basename, exist_ok=True)\n",
    "\n",
    "modes = []\n",
    "step = 0\n",
    "for P,T in PT_steps:\n",
    "    \n",
    "    # set required windows\n",
    "    context.script[\"calcP\"] = \"{} {}\".format(P,P)\n",
    "    context.script[\"calcT\"] = \"{} {}\".format(T,T)\n",
    "    \n",
    "    results_filename = os.path.join(basename,\"results_step_{}.txt\".format(step))\n",
    "    # check if results file exists\n",
    "    if (not os.path.isfile(results_filename)) or rerun_all:\n",
    "        # if results don't exist, execute.\n",
    "        results = context.execute(timeout=600)\n",
    "        # save results.\n",
    "        results.save(results_filename)\n",
    "        # let's save the input script too. \n",
    "        context.script.save(os.path.join(basename,\"script_step_{}.txt\".format(step)))\n",
    "    else:\n",
    "        # if the file exists, load from disk instead.\n",
    "        # first create empty results object, then load.\n",
    "        results = tc.Results()\n",
    "        results.load(filename=results_filename)\n",
    "\n",
    "    modes.append((results.modes,step))\n",
    "    \n",
    "    # set resultant rbi back on script\n",
    "    print(\"Executing for P,T = {},{}\".format(P,T))\n",
    "    context.script[\"rbi\"] = results.rbi\n",
    "    # remove required phases\n",
    "    for phase, removal_frac in removal_fraction.items():\n",
    "        if phase in context.script[\"rbi\"].keys():\n",
    "            phase_post_solve = context.script[\"rbi\"][phase][\"mode\"] \n",
    "            context.script[\"rbi\"][phase][\"mode\"] *= (1.-removal_frac)\n",
    "            print(\"Phase {} before = {} after = {}\".format(phase, phase_post_solve, context.script[\"rbi\"][phase][\"mode\"] ))\n",
    "    \n",
    "    # record new values to new dict for viz purposes\n",
    "    final_modes = {}\n",
    "    for key,val in context.script[\"rbi\"].items():\n",
    "        final_modes[key] = val[\"mode\"]\n",
    "    modes.append((final_modes,step))\n",
    "    step += 1"
   ]
  },
  {
   "cell_type": "code",
   "execution_count": 12,
   "metadata": {},
   "outputs": [
    {
     "data": {
      "text/plain": [
       "'fl plc ksp g opx ilm q or [liq,bi,cpx,spn] #1431'"
      ]
     },
     "execution_count": 12,
     "metadata": {},
     "output_type": "execute_result"
    }
   ],
   "source": [
    "results.phases"
   ]
  }
 ],
 "metadata": {
  "kernelspec": {
   "display_name": "Python 3",
   "language": "python",
   "name": "python3"
  },
  "language_info": {
   "codemirror_mode": {
    "name": "ipython",
    "version": 3
   },
   "file_extension": ".py",
   "mimetype": "text/x-python",
   "name": "python",
   "nbconvert_exporter": "python",
   "pygments_lexer": "ipython3",
   "version": "3.8.5"
  }
 },
 "nbformat": 4,
 "nbformat_minor": 4
}
