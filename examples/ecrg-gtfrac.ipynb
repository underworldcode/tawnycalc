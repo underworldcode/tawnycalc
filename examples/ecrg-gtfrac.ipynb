{
 "cells": [
  {
   "cell_type": "markdown",
   "metadata": {},
   "source": [
    "# Garnet fractionation\n",
    "\n",
    "Basically the same set-up as the previous garnet fractionation example, but here used to show:\n",
    "\n",
    "1. New scripting in tc350beta3\n",
    "\n",
    "2. New composition-tracking"
   ]
  },
  {
   "cell_type": "code",
   "execution_count": 1,
   "metadata": {},
   "outputs": [],
   "source": [
    "import tawnycalc as tc\n",
    "import os"
   ]
  },
  {
   "cell_type": "markdown",
   "metadata": {},
   "source": [
    "### Keeping track of mass and energy as the system gains or loses phases\n",
    "\n",
    "In a THERMOCALC calculation (a call to context.execute()), THERMOCALC works with a chemical system defined as a vector of the number of oxide units present, normalised to 100. If the user chooses to specify this chemical system (the \"bulk composition\") via a block of rbi scripts, THERMOCALC constructs the vector of oxide units from the rbi scripts, but makes no other use of the rbi information. For defining the equilibrium system, THERMOCALC is only interested in the relative proportions of oxide units.\n",
    "\n",
    "TawnyCALC, however, handles systems in which chemical elements may enter or leave the system, and be fractionated from each other. We therefore have to keep track of the number of oxide units entering and leaving the system.\n",
    "\n",
    "A vector of oxide units can be converted into a scalar, the number of atoms, by taking its dot product with a vector of the number of atoms in each oxide unit (there are 3 atoms in SiO2, 5 atoms in Al2O3, ....). This is useful in particular because THERMOCALC outputs the extensive properties of individual phases (modes, energies, etc) on a per-atom basis."
   ]
  },
  {
   "cell_type": "code",
   "execution_count": 2,
   "metadata": {},
   "outputs": [],
   "source": [
    "# First we must construct a dictionary, oxinfo, of atoms per oxide, \n",
    "# from the 'datasets' file 'oxide_data.txt'.\n",
    "\n",
    "oxidedata=os.path.join(os.path.dirname(tc.__file__),\"datasets/oxide_data.txt\")\n",
    "with open(oxidedata) as lst:\n",
    "    oxdat=lst.readlines()\n",
    "\n",
    "oxdat = [ l.split() for l in oxdat ]\n",
    "\n",
    "ox   = [ l for l in oxdat if (len(l)>0 and l[0]=='oxides'  ) ][0][1:]\n",
    "lAox = [ l for l in oxdat if (len(l)>0 and l[0]=='no_atoms') ][0][1:]\n",
    "nAox = [ int(a) for a in lAox]\n",
    "\n",
    "oxinfo = { ox[i] : nAox[i] for i in range(len(ox)) }"
   ]
  },
  {
   "cell_type": "code",
   "execution_count": 3,
   "metadata": {},
   "outputs": [],
   "source": [
    "def atoms_from_ox(oxlist):\n",
    "    \"\"\"\n",
    "    Calculate the total number of atoms implied by a list of \n",
    "    numbers of oxide units\n",
    "    \"\"\"\n",
    "    return sum([ x * y for x, y in zip(oxlist,nAox) ])\n",
    "    \n",
    "    \n",
    "    \n",
    "def system_components(oxides,rbi,phases):    \n",
    "    \"\"\"\n",
    "    Calculate the number of oxide units and total number of \n",
    "    atoms in a specified subset of the phases in an rbi construct.\n",
    "\n",
    "    Params\n",
    "    ------\n",
    "        oxides: list\n",
    "            list of oxide names as strings.\n",
    "        rbi: tawnycalc.rbi\n",
    "            rbi construct.>\n",
    "        phases: list\n",
    "            list of names of phases from the rbi construct \n",
    "            as strings; OR, \"all\" for whole rbi block\n",
    "    Returns\n",
    "    -------\n",
    "        [total no. atoms, [ox1, ox2, ...]]\n",
    "    \"\"\"\n",
    "    \n",
    "    # ensure modes in entire rbi block are normalised\n",
    "    # (true for THERMOCALC output but not necessarily for user input)\n",
    "    phases0 = list(rbi.keys())  # all phases in rbi object\n",
    "    modes0 = [ rbi[phase][\"mode\"] for phase in phases0 ]\n",
    "    modes0N = [ m/sum(modes0) for m in modes0 ]\n",
    "        \n",
    "    # for each phase in the specified subset, find the numbers of\n",
    "    # oxide units contributed to the system\n",
    "    oxlists = []   \n",
    "    modes = []\n",
    "    if phases == 'all':\n",
    "        phase_subset = phases0\n",
    "    else:\n",
    "        phase_subset = phases\n",
    "        \n",
    "    for phase in phase_subset:\n",
    "        pos = phases0.index(phase)\n",
    "        mode = modes0N[pos]   # no. atoms of phase = mode\n",
    "        modes.append(mode)\n",
    "        oxx = [ rbi[phase][x] for x in oxides ]\n",
    "        apfu = atoms_from_ox(oxx)      # atoms per formula unit\n",
    "        oxf = [ mode * x / apfu for x in oxx ] \n",
    "        oxlists.append(oxf)\n",
    "    \n",
    "    # for each oxide, sum the contributions from each of the phases\n",
    "    # in the specified subset, and calculate the total number of atoms\n",
    "    oxlistsT = [ [oxlists[j][i] for j in range(len(oxlists))] for i in range(len(oxlists[0])) ]\n",
    "    nOxsubset = [ sum(l) for l in oxlistsT ]\n",
    "    sum_of_modes = sum(modes)\n",
    "\n",
    "    return [sum_of_modes, nOxsubset]\n",
    "\n",
    "\n",
    "#system_components(oxlist,results.rbi,list(removal_fraction.keys()))\n",
    "# results.rbi"
   ]
  },
  {
   "cell_type": "markdown",
   "metadata": {},
   "source": [
    "### Setting up and scripting problem"
   ]
  },
  {
   "cell_type": "code",
   "execution_count": 4,
   "metadata": {},
   "outputs": [],
   "source": [
    "# set up lists of possible phases\n",
    "phases_all = \"chl bi pa ru g ilmm sph\"\n",
    "\n",
    "# set up path taken and phases added/removed\n",
    "removal_fraction = {}\n",
    "removal_fraction[\"g\"] = 1\n",
    "\n",
    "PT_steps = []\n",
    "PT_steps.append( (11.0, 600 ) )\n",
    "PT_steps.append( (12.0, 630 ) )\n",
    "PT_steps.append( (12.2, 650 ) )\n",
    "PT_steps.append( (11.5, 670 ) )\n",
    "PT_steps.append( (10.0, 660 ) )"
   ]
  },
  {
   "cell_type": "code",
   "execution_count": 5,
   "metadata": {},
   "outputs": [
    {
     "data": {
      "text/plain": [
       "calcmode   : 1\n",
       "scriptfile : rhdqzf\n",
       "dataset    : None"
      ]
     },
     "execution_count": 5,
     "metadata": {},
     "output_type": "execute_result"
    }
   ],
   "source": [
    "# To start with a clean context, set `scripts_dir=None`\n",
    "context = tc.Context(scripts_dir=None)\n",
    "context.prefs"
   ]
  },
  {
   "cell_type": "code",
   "execution_count": 6,
   "metadata": {},
   "outputs": [],
   "source": [
    "# Set the required dataset on the `prefs` dictionary.\n",
    "context.prefs[\"dataset\"] = 62"
   ]
  },
  {
   "cell_type": "code",
   "execution_count": 7,
   "metadata": {},
   "outputs": [],
   "source": [
    "# Scripts follow new form!!!\n",
    "\n",
    "context.script[       \"axfile\"] = \"mb50NCKFMASHTO\"\n",
    "context.script[         \"with\"] = phases_all  # replaces 'which'\n",
    "context.script[     \"inexcess\"] = \"mu q H2O\"\n",
    "context.script[       \"dogmin\"] = \"1\"                 # replaces 'dogmin yes 1'\n",
    "context.script[       \"maxvar\"] = \"6\"                 # replaces 'setmaxvar'\n",
    "context.script[    \"diagramPT\"] = \"2 20 400 1100\"     # new script\n",
    "# context.script[        \"calcP\"] = \"11\"              # replaces 'setPwindow 11 11'\n",
    "# context.script[        \"calcT\"] = \"600\"             # replaces 'setTwindow 600 600'\n",
    "context.script[\"pseudosection\"] = \"\"                  # replaces 'pseudosection yes'\n",
    "context.script[   \"samecoding\"] = [\"mu pa\", \"sp mt\"]  # "
   ]
  },
  {
   "cell_type": "code",
   "execution_count": 8,
   "metadata": {
    "scrolled": true
   },
   "outputs": [],
   "source": [
    "# Set up the chemical system:\n",
    "\n",
    "# The oxides and their order\n",
    "oxidestr =  \"                              H2O        SiO2       Al2O3          CaO        MgO         FeO         K2O        Na2O        TiO2            O\"     \n",
    "oxlist = oxidestr.split()\n",
    "\n",
    "# CHECK user oxide list against global THERMOCALC oxides/oxide order in datasets > oxide_data.txt???\n",
    "\n",
    "\n",
    "\n",
    "# Construct initial bulk composition by creating the initial rbi object, \n",
    "# 1. set the oxide list:\n",
    "rbi_sec = tc.rbi(oxides=oxidestr)\n",
    "# 2. add the phases one by one (strings and floats can generally be used interchangeably):\n",
    "#\n",
    "#                (  \"phase\", \"mode\",  \"  oxide1      oxide2         ...                                           \" )\n",
    "rbi_sec.add_phase(  \"g\",  \"0.02\"    , \"       0    3.000000    0.984049    0.230147    0.395429    2.406326           0           0           0    0.015951\")\n",
    "rbi_sec.add_phase( \"mu\",  \"0.159799\", \"1.000000    3.102219    1.393080    0.004483    0.058473    0.053149    0.386538    0.111220           0    0.002460\")\n",
    "rbi_sec.add_phase( \"pa\",  \"0.006915\", \"       1    2.984010    1.505704    0.019628    0.001993    0.002589    0.033770    0.456416           0    0.000473\")\n",
    "rbi_sec.add_phase( \"bi\",  \"0.090237\", \"0.932353    2.842048    0.636750           0    1.244448    1.572357    0.500000           0    0.067647    0.021202\")\n",
    "rbi_sec.add_phase(\"ilmm\",  \"0.004242\", \"      0           0           0           0    0.011126    1.032649           0           0    0.956225    0.043775\")\n",
    "rbi_sec.add_phase(  \"q\",  \"0.240992\", \"       0           1           0           0           0           0           0           0           0           0\")\n",
    "rbi_sec.add_phase(\"H2O\",  \"0.458826\", \"       1           0           0           0           0           0           0           0           0           0\")\n",
    "\n",
    "# Alternatively, to specify the initial bulk composition as a single vector of \n",
    "# oxides rather than by phase, use simply:\n",
    "# rbi_sec.add_phase(  \"bulk\", \"1\",  \"  oxide1      oxide2         ...                                           \" )  \n",
    "\n",
    "# For help, run\n",
    "# help(rbi_sec.add_phase)\n",
    "\n",
    "# Add rbi object to scripts\n",
    "context.script[\"rbi\"] = rbi_sec"
   ]
  },
  {
   "cell_type": "code",
   "execution_count": 9,
   "metadata": {},
   "outputs": [
    {
     "name": "stdout",
     "output_type": "stream",
     "text": [
      "no. atoms in initial system:  303.9233143888544\n",
      "oxide units (%) in initial system:\n",
      " [51.033958160128044, 37.06795159048513, 4.556744950605187, 0.08387182544455668, 1.8546201585534432, 3.152875948580158, 1.5539888315392187, 0.3087582008370118, 0.33782654393834355, 0.049403789888916846]\n"
     ]
    }
   ],
   "source": [
    "# Let's look at the initial chemistry of the system:\n",
    "ox0 = system_components(oxlist, context.script[\"rbi\"], phases=\"all\")[1]\n",
    "ox0_sys = [ 100*i/sum(ox0) for i in ox0 ]\n",
    "atoms0_sys = atoms_from_ox(ox0_sys)\n",
    "print(\"no. atoms in initial system: \", atoms0_sys)\n",
    "print(\"oxide units (%) in initial system:\\n\", ox0_sys)"
   ]
  },
  {
   "cell_type": "code",
   "execution_count": 10,
   "metadata": {},
   "outputs": [],
   "source": [
    "# Now create xyzguess section: Method 1: Manual xyzguess entry\n",
    "# We use the `xyz` object this time. \n",
    "# It is really just a Python `OrderedDict`.\n",
    "# First create a dictionary to record values\n",
    "xyzguess = tc.xyz()\n",
    "# Now add values\n",
    "xyzguess[    \"x(g)\"] = \"0.885508\"\n",
    "xyzguess[    \"z(g)\"] = \"0.211255\"\n",
    "xyzguess[    \"f(g)\"] = \"0.070810\"\n",
    "xyzguess[   \"x(bi)\"] = \"0.579607\"\n",
    "xyzguess[   \"y(bi)\"] = \"0.140313\"\n",
    "xyzguess[   \"f(bi)\"] = \"0.126258\"\n",
    "xyzguess[   \"t(bi)\"] = \"0.072042\"\n",
    "xyzguess[   \"Q(bi)\"] = \"0.121282\"\n",
    "xyzguess[   \"x(mu)\"] = \"0.461998\"\n",
    "xyzguess[   \"y(mu)\"] = \"0.944788\"\n",
    "xyzguess[   \"f(mu)\"] = \"0.009495\"\n",
    "xyzguess[   \"n(mu)\"] = \"0.253509\"\n",
    "xyzguess[   \"c(mu)\"] = \"0.016160\"\n",
    "xyzguess[   \"x(pa)\"] = \"0.461998\"\n",
    "xyzguess[   \"y(pa)\"] = \"0.996868\"\n",
    "xyzguess[   \"f(pa)\"] = \"0.002376\"\n",
    "xyzguess[   \"n(pa)\"] = \"0.955475\"\n",
    "xyzguess[   \"c(pa)\"] = \"0.038175\"\n",
    "xyzguess[   \"x(ma)\"] = \"0.461998\"\n",
    "xyzguess[   \"y(ma)\"] = \"0.964236\"\n",
    "xyzguess[   \"f(ma)\"] = \"0.009701\"\n",
    "xyzguess[   \"n(ma)\"] = \"0.054672\"\n",
    "xyzguess[   \"c(ma)\"] = \"0.944410\"\n",
    "xyzguess[  \"x(chl)\"] = \"0.473331\"\n",
    "xyzguess[  \"y(chl)\"] = \"0.520964\"\n",
    "xyzguess[  \"f(chl)\"] = \"0.248348\"\n",
    "xyzguess[\"QAl(chl)\"] = \"0.230540  range -1.000 1.000\"\n",
    "xyzguess[ \"Q1(chl)\"] = \"0.077845  range -1.000 1.000\"\n",
    "xyzguess[ \"Q4(chl)\"] = \"0.092301  range -1.000 1.000\"\n",
    "xyzguess[   \"f(ep)\"] = \"0.264635\"\n",
    "xyzguess[   \"Q(ep)\"] = \"0.250072  range  0.000 0.500\"\n",
    "xyzguess[  \"i(ilmm)\"] = \"0.829808\"\n",
    "xyzguess[  \"g(ilmm)\"] = \"0.017481\"\n",
    "xyzguess[  \"Q(ilmm)\"] = \"0.760053  range -0.990 0.990\"\n",
    "xyzguess[  \"x(mt1)\"] = \"0.762081\"\n",
    "xyzguess[  \"Q(mt1)\"] = \"0.808179\"\n",
    "\n",
    "context.script[\"xyzguess\"] = xyzguess\n",
    "\n",
    "\n",
    "# Method 2: Elsewhere, e.g. in ecrg-frac-xtn.ipynb, I've read these in from a text file"
   ]
  },
  {
   "cell_type": "markdown",
   "metadata": {},
   "source": [
    "### Run"
   ]
  },
  {
   "cell_type": "code",
   "execution_count": 11,
   "metadata": {},
   "outputs": [
    {
     "name": "stdout",
     "output_type": "stream",
     "text": [
      "Executing for P,T = 11.0,600\n",
      "Phase g before = 0.02123 after = 0.0\n",
      "Atoms in system before = 303.9233143888544 after = 297.471022424379\n",
      "Oxides in system: sum:  97.73085682094641 ; values:\n",
      "{'H2O': 51.033982703634855, 'SiO2': 36.100117504298325, 'Al2O3': 4.2395504249868745, 'CaO': 0.015328823904411818, 'MgO': 1.7281789842677726, 'FeO': 2.3691612717613, 'K2O': 1.5539886351852756, 'Na2O': 0.3087613489296371, 'TiO2': 0.33779721972770566, 'O': 0.043989904250260274}\n",
      "\n",
      "Executing for P,T = 12.0,630\n",
      "Phase g before = 0.002922 after = 0.0\n",
      "Atoms in system before = 297.471022424379 after = 296.6018120968549\n",
      "Oxides in system: sum:  97.42509468148587 ; values:\n",
      "{'H2O': 51.033984933439584, 'SiO2': 35.969744203484225, 'Al2O3': 4.196857354498363, 'CaO': 0.009227460696107697, 'MgO': 1.7091309297089405, 'FeO': 2.2623866470581726, 'K2O': 1.5539828199266383, 'Na2O': 0.3087621275720646, 'TiO2': 0.33779739553371346, 'O': 0.043220809568051986}\n",
      "\n",
      "Executing for P,T = 12.2,650\n",
      "Phase g before = 0.000354 after = 0.0\n",
      "Atoms in system before = 296.6018120968549 after = 296.4968149503755\n",
      "Oxides in system: sum:  97.38815542697371 ; values:\n",
      "{'H2O': 51.03403662917192, 'SiO2': 35.95397757323767, 'Al2O3': 4.191684953900234, 'CaO': 0.008557155183716695, 'MgO': 1.7067036017284505, 'FeO': 2.249510775633433, 'K2O': 1.5539782964125461, 'Na2O': 0.30875788207993093, 'TiO2': 0.33782370672554984, 'O': 0.04312485290023972}\n",
      "\n",
      "Executing for P,T = 11.5,670\n",
      "Phase g before = 0.034165 after = 0.0\n",
      "Atoms in system before = 296.4968149503755 after = 286.36700126759587\n",
      "Oxides in system: sum:  93.82298167390923 ; values:\n",
      "{'H2O': 51.03404764845741, 'SiO2': 34.43446885934498, 'Al2O3': 3.6950687524159562, 'CaO': 0.0003390483919350609, 'MgO': 1.3120191886770396, 'FeO': 1.1132189777493164, 'K2O': 1.5539780060465371, 'Na2O': 0.3087575850511923, 'TiO2': 0.33783158570218424, 'O': 0.0332520220726619}\n",
      "\n",
      "Executing for P,T = 10.0,660\n",
      "Atoms in system before = 286.36700126759587 after = 286.36700126759587\n",
      "Oxides in system: sum:  93.82297863815114 ; values:\n",
      "{'H2O': 51.034096539872884, 'SiO2': 34.4344607650975, 'Al2O3': 3.695072428096602, 'CaO': 0.00033320250744935576, 'MgO': 1.312020486062562, 'FeO': 1.1132209772561865, 'K2O': 1.553978773119466, 'Na2O': 0.3087577148652526, 'TiO2': 0.3377853326609587, 'O': 0.033252418612283015}\n",
      "\n"
     ]
    }
   ],
   "source": [
    "modes = []\n",
    "atoms_sys_pre_solve = atoms0_sys\n",
    "ox_sys = ox0_sys\n",
    "atoms_lost = 0\n",
    "ox_sys = [ 0 for i in range(len(oxlist)) ]\n",
    "\n",
    "step = 0\n",
    "for P,T in PT_steps:\n",
    "    # set required windows\n",
    "    context.script[\"calcP\"] = P\n",
    "    context.script[\"calcT\"] = T\n",
    "    \n",
    "    # execute\n",
    "    results = context.execute()\n",
    "    modes.append((results.modes,step))\n",
    "    \n",
    "    # set resultant rbi back on script\n",
    "    print(\"Executing for P,T = {},{}\".format(P,T))\n",
    "    context.script[\"rbi\"] = results.rbi\n",
    "    rbi_step = results.rbi\n",
    "    \n",
    "    # remove required phases; note cumulative changes to system chemistry    \n",
    "    phases_this_step = list(context.script[\"rbi\"].keys())\n",
    "    phases_kept = [ i for i in phases_this_step if i not in list(removal_fraction.keys()) ]\n",
    "    oxk0 = system_components(oxlist,rbi_step, phases_kept)[1]\n",
    "    oxk = [ atoms_sys_pre_solve*i for i in oxk0 ]\n",
    "    atoms_sys_post_solve = atoms_from_ox(oxk0)*atoms_sys_pre_solve\n",
    "    \n",
    "    for phase, removal_frac in removal_fraction.items():\n",
    "        if phase in context.script[\"rbi\"].keys():\n",
    "            phase_post_solve = context.script[\"rbi\"][phase][\"mode\"] \n",
    "            context.script[\"rbi\"][phase][\"mode\"] *= (1.-removal_frac)\n",
    "            print(\"Phase {} before = {} after = {}\".format(phase, phase_post_solve, context.script[\"rbi\"][phase][\"mode\"] ))            \n",
    "            # get rid of it here too for viz purposes\n",
    "                \n",
    "    print(\"Atoms in system before = {} after = {}\".format(atoms_sys_pre_solve, atoms_sys_post_solve ))\n",
    "    oxd = { oxlist[i] : oxk[i] for i in range(len(oxlist)) }\n",
    "    print(\"Oxides in system: sum: \", sum(oxk), \"; values:\")\n",
    "    print(oxd)\n",
    "    atoms_sys_pre_solve = atoms_sys_post_solve\n",
    "    print(\"\")\n",
    "                \n",
    "    # record new values to new dict for viz purposes\n",
    "    final_modes = {}\n",
    "    for key,val in context.script[\"rbi\"].items():\n",
    "        final_modes[key] = val[\"mode\"]\n",
    "    modes.append((final_modes,step))\n",
    "    step += 1"
   ]
  },
  {
   "cell_type": "markdown",
   "metadata": {},
   "source": [
    "In the above, I think THERMOCALC is blowing up because it's being fed a mode for garnet of 2.7800000000000022e-05. I think it's simply interpreting this as \"too long\" and bombing, rather than reading it as a hair-raising 2.780000 (this is probably the better outcome). \n",
    "\n",
    "- Keeping records step-by-step?\n",
    "- Facilitating restart in event of slow THERMOCALC runs with crash mid-path?\n",
    "- Check for missing input files at every step"
   ]
  }
 ],
 "metadata": {
  "kernelspec": {
   "display_name": "Python 3",
   "language": "python",
   "name": "python3"
  },
  "language_info": {
   "codemirror_mode": {
    "name": "ipython",
    "version": 3
   },
   "file_extension": ".py",
   "mimetype": "text/x-python",
   "name": "python",
   "nbconvert_exporter": "python",
   "pygments_lexer": "ipython3",
   "version": "3.8.5"
  }
 },
 "nbformat": 4,
 "nbformat_minor": 4
}
