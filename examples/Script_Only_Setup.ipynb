{
 "cells": [
  {
   "cell_type": "markdown",
   "metadata": {},
   "source": [
    "In this simple example we configure our `thermocalc` \n",
    "model entirely from the script without utilising \n",
    "configuration files. \n",
    "\n",
    "We walk through various features of the `tawnycalc` \n",
    "configuration, execution, and data extraction. "
   ]
  },
  {
   "cell_type": "code",
   "execution_count": 1,
   "metadata": {},
   "outputs": [],
   "source": [
    "import os\n",
    "os.environ[\"THERMOCALC_EXECUTABLE\"] = \"/home/jmansour/code/thermocalc/thermo\""
   ]
  },
  {
   "cell_type": "code",
   "execution_count": 2,
   "metadata": {},
   "outputs": [],
   "source": [
    "import tawnycalc as tc"
   ]
  },
  {
   "cell_type": "code",
   "execution_count": 3,
   "metadata": {},
   "outputs": [
    {
     "data": {
      "text/plain": [
       "calcmode   : 1\n",
       "scriptfile : warfyh\n",
       "dataset    : None"
      ]
     },
     "execution_count": 3,
     "metadata": {},
     "output_type": "execute_result"
    }
   ],
   "source": [
    "# To start with a clean context, set `scripts_dir=None`\n",
    "context = tc.Context(scripts_dir=None)\n",
    "context.prefs"
   ]
  },
  {
   "cell_type": "code",
   "execution_count": 4,
   "metadata": {},
   "outputs": [],
   "source": [
    "# Set the required dataset on the `prefs` dictionary.\n",
    "context.prefs[\"dataset\"] = 62"
   ]
  },
  {
   "cell_type": "code",
   "execution_count": 5,
   "metadata": {
    "scrolled": false
   },
   "outputs": [
    {
     "name": "stdout",
     "output_type": "stream",
     "text": [
      "Help on property:\n",
      "\n",
      "    The `script` dictionary contains your `thermocalc` model configuration. \n",
      "    This dictionary will be populated with the data from your `thermocalc` \n",
      "    scripts where the `scripts_dir` parameter is passed when constructing\n",
      "    your `Context`.  Otherwise it will be empty and you will be required \n",
      "    to sufficiently populate it.  In either case, you may add, modify and\n",
      "    delete values as necessary before calling `execute`. \n",
      "    \n",
      "    Please see `help(tawnycalc.data_objects.thermocalc_script)` for further\n",
      "    info on script object usage.\n",
      "\n"
     ]
    }
   ],
   "source": [
    "# Configure some parameters directly on the `script` dictionary.\n",
    "help(tc.Context.script)"
   ]
  },
  {
   "cell_type": "code",
   "execution_count": 6,
   "metadata": {
    "scrolled": true
   },
   "outputs": [
    {
     "name": "stdout",
     "output_type": "stream",
     "text": [
      "Help on class thermocalc_script in module tawnycalc.data_objects:\n",
      "\n",
      "class thermocalc_script(collections.OrderedDict)\n",
      " |  This dictionary class generates objects which represent `thermocalc` scripts \n",
      " |  and provides associated methods to handle the script lifecycle and user \n",
      " |  interaction.\n",
      " |  \n",
      " |  Key/Value pairs will be directly printed to form standard `thermocalc`\n",
      " |  input.  For example \n",
      " |  \n",
      " |  >>> context.script[       \"axfile\"] = \"mb50NCKFMASHTO\"\n",
      " |  >>> context.script[        \"which\"] = \"chl bi pa ep ru chl g ilm sph\"\n",
      " |  >>> context.script[     \"inexcess\"] = \"mu q H2O\"\n",
      " |  >>> context.script[       \"dogmin\"] = \"yes 0\"\n",
      " |  \n",
      " |  is equivalent to\n",
      " |  \n",
      " |      axfile   mb50NCKFMASHTO\n",
      " |      which    chl bi pa ep ru chl g ilm sph\n",
      " |      inexcess mu q H2O\n",
      " |      dogmin   yes 0\n",
      " |  \n",
      " |  To form repeat keyword entries, set the required corresponding values \n",
      " |  in a Python list.  For example:\n",
      " |  \n",
      " |  >>> context.script[   \"samecoding\"] = [\"mu pa\", \"sp mt\"]\n",
      " |  \n",
      " |  is equivalent to\n",
      " |  \n",
      " |      samecoding mu pa\n",
      " |      samecoding sp mt\n",
      " |  \n",
      " |  Method resolution order:\n",
      " |      thermocalc_script\n",
      " |      collections.OrderedDict\n",
      " |      builtins.dict\n",
      " |      builtins.object\n",
      " |  \n",
      " |  Methods defined here:\n",
      " |  \n",
      " |  __repr__(self)\n",
      " |      Prints the current loaded script configuration.\n",
      " |  \n",
      " |  copy(self)\n",
      " |      Returns a deep copy of the current script.\n",
      " |  \n",
      " |  load(self, filename)\n",
      " |      Load `thermocalc` script file from disk.\n",
      " |      \n",
      " |      Params\n",
      " |      ------\n",
      " |      filename: str\n",
      " |          Name of script file to be loaded, including full or \n",
      " |          relative path.\n",
      " |  \n",
      " |  save(self, filename)\n",
      " |      Save `thermocalc` script to disk.\n",
      " |      \n",
      " |      Params\n",
      " |      ------\n",
      " |      filename: str\n",
      " |          Name of file for script to be saved to, including full or \n",
      " |          relative path.\n",
      " |  \n",
      " |  ----------------------------------------------------------------------\n",
      " |  Methods inherited from collections.OrderedDict:\n",
      " |  \n",
      " |  __delitem__(self, key, /)\n",
      " |      Delete self[key].\n",
      " |  \n",
      " |  __eq__(self, value, /)\n",
      " |      Return self==value.\n",
      " |  \n",
      " |  __ge__(self, value, /)\n",
      " |      Return self>=value.\n",
      " |  \n",
      " |  __gt__(self, value, /)\n",
      " |      Return self>value.\n",
      " |  \n",
      " |  __init__(self, /, *args, **kwargs)\n",
      " |      Initialize self.  See help(type(self)) for accurate signature.\n",
      " |  \n",
      " |  __iter__(self, /)\n",
      " |      Implement iter(self).\n",
      " |  \n",
      " |  __le__(self, value, /)\n",
      " |      Return self<=value.\n",
      " |  \n",
      " |  __lt__(self, value, /)\n",
      " |      Return self<value.\n",
      " |  \n",
      " |  __ne__(self, value, /)\n",
      " |      Return self!=value.\n",
      " |  \n",
      " |  __reduce__(...)\n",
      " |      Return state information for pickling\n",
      " |  \n",
      " |  __reversed__(...)\n",
      " |      od.__reversed__() <==> reversed(od)\n",
      " |  \n",
      " |  __setitem__(self, key, value, /)\n",
      " |      Set self[key] to value.\n",
      " |  \n",
      " |  __sizeof__(...)\n",
      " |      D.__sizeof__() -> size of D in memory, in bytes\n",
      " |  \n",
      " |  clear(...)\n",
      " |      od.clear() -> None.  Remove all items from od.\n",
      " |  \n",
      " |  items(...)\n",
      " |      D.items() -> a set-like object providing a view on D's items\n",
      " |  \n",
      " |  keys(...)\n",
      " |      D.keys() -> a set-like object providing a view on D's keys\n",
      " |  \n",
      " |  move_to_end(self, /, key, last=True)\n",
      " |      Move an existing element to the end (or beginning if last is false).\n",
      " |      \n",
      " |      Raise KeyError if the element does not exist.\n",
      " |  \n",
      " |  pop(...)\n",
      " |      od.pop(k[,d]) -> v, remove specified key and return the corresponding\n",
      " |      value.  If key is not found, d is returned if given, otherwise KeyError\n",
      " |      is raised.\n",
      " |  \n",
      " |  popitem(self, /, last=True)\n",
      " |      Remove and return a (key, value) pair from the dictionary.\n",
      " |      \n",
      " |      Pairs are returned in LIFO order if last is true or FIFO order if false.\n",
      " |  \n",
      " |  setdefault(self, /, key, default=None)\n",
      " |      Insert key with a value of default if key is not in the dictionary.\n",
      " |      \n",
      " |      Return the value for key if key is in the dictionary, else default.\n",
      " |  \n",
      " |  update(...)\n",
      " |      D.update([E, ]**F) -> None.  Update D from dict/iterable E and F.\n",
      " |      If E is present and has a .keys() method, then does:  for k in E: D[k] = E[k]\n",
      " |      If E is present and lacks a .keys() method, then does:  for k, v in E: D[k] = v\n",
      " |      In either case, this is followed by: for k in F:  D[k] = F[k]\n",
      " |  \n",
      " |  values(...)\n",
      " |      D.values() -> an object providing a view on D's values\n",
      " |  \n",
      " |  ----------------------------------------------------------------------\n",
      " |  Class methods inherited from collections.OrderedDict:\n",
      " |  \n",
      " |  fromkeys(iterable, value=None) from builtins.type\n",
      " |      Create a new ordered dictionary with keys from iterable and values set to value.\n",
      " |  \n",
      " |  ----------------------------------------------------------------------\n",
      " |  Data descriptors inherited from collections.OrderedDict:\n",
      " |  \n",
      " |  __dict__\n",
      " |  \n",
      " |  ----------------------------------------------------------------------\n",
      " |  Data and other attributes inherited from collections.OrderedDict:\n",
      " |  \n",
      " |  __hash__ = None\n",
      " |  \n",
      " |  ----------------------------------------------------------------------\n",
      " |  Methods inherited from builtins.dict:\n",
      " |  \n",
      " |  __contains__(self, key, /)\n",
      " |      True if the dictionary has the specified key, else False.\n",
      " |  \n",
      " |  __getattribute__(self, name, /)\n",
      " |      Return getattr(self, name).\n",
      " |  \n",
      " |  __getitem__(...)\n",
      " |      x.__getitem__(y) <==> x[y]\n",
      " |  \n",
      " |  __len__(self, /)\n",
      " |      Return len(self).\n",
      " |  \n",
      " |  get(self, key, default=None, /)\n",
      " |      Return the value for key if key is in the dictionary, else default.\n",
      " |  \n",
      " |  ----------------------------------------------------------------------\n",
      " |  Static methods inherited from builtins.dict:\n",
      " |  \n",
      " |  __new__(*args, **kwargs) from builtins.type\n",
      " |      Create and return a new object.  See help(type) for accurate signature.\n",
      "\n"
     ]
    }
   ],
   "source": [
    "help(tc.data_objects.thermocalc_script)"
   ]
  },
  {
   "cell_type": "code",
   "execution_count": 7,
   "metadata": {},
   "outputs": [],
   "source": [
    "context.script[       \"axfile\"] = \"mb50NCKFMASHTO\"\n",
    "context.script[         \"with\"] = \"chl bi pa ru g ilmm sph\"\n",
    "context.script[     \"inexcess\"] = \"mu q H2O\"\n",
    "context.script[       \"dogmin\"] = \"1\"                 # replaces 'dogmin yes'\n",
    "context.script[       \"maxvar\"] = \"6\"                 # replaces 'setmaxvar'\n",
    "context.script[\"pseudosection\"] = \"\"\n",
    "context.script[   \"samecoding\"] = [\"mu pa\", \"sp mt\"]\n",
    "context.script[    \"diagramPT\"] = \"2 20 400 1100\"     # new script\n",
    "context.script[        \"calcP\"] = 11.0\n",
    "context.script[        \"calcT\"] = 600.0"
   ]
  },
  {
   "cell_type": "code",
   "execution_count": 8,
   "metadata": {
    "scrolled": false
   },
   "outputs": [],
   "source": [
    "# Add 'rbi' section.\n",
    "# We have specific `rbi` object that we use to achieve this. \n",
    "# Let's create rbi object, noting how we provide the oxide list at construction time:\n",
    "rbi_sec = tc.rbi(oxides=\"H2O SiO2 Al2O3 CaO MgO FeO K2O Na2O TiO2 O\")"
   ]
  },
  {
   "cell_type": "code",
   "execution_count": 9,
   "metadata": {},
   "outputs": [
    {
     "name": "stdout",
     "output_type": "stream",
     "text": [
      "Help on method add_phase in module tawnycalc.data_objects:\n",
      "\n",
      "add_phase(phase, mode, oxides) method of tawnycalc.data_objects.rbi instance\n",
      "    Add a phase to the rbi table. \n",
      "    \n",
      "    Params\n",
      "    ------\n",
      "    phase:  str\n",
      "        Name of phase to add. \n",
      "    mode: str, float\n",
      "        Mode/proportion of phase.\n",
      "    oxides: str,list\n",
      "        Proportion of each oxide for phase.\n",
      "\n"
     ]
    }
   ],
   "source": [
    "# Now we need to add the individual phases.\n",
    "# We will use the `add_phase` method to achieve this. \n",
    "# We supply the `phase` name, `mode` data, and finally\n",
    "# `oxides` as a string or list\n",
    "help(rbi_sec.add_phase)"
   ]
  },
  {
   "cell_type": "code",
   "execution_count": 10,
   "metadata": {},
   "outputs": [],
   "source": [
    "rbi_sec.add_phase(  \"g\",  \"0.0\"     , \"       0    3.000000    0.984049    0.230147    0.395429    2.406326           0           0           0    0.015951\")\n",
    "rbi_sec.add_phase( \"mu\",  \"0.159799\", \"1.000000    3.102219    1.393080    0.004483    0.058473    0.053149    0.386538    0.111220           0    0.002460\")\n",
    "rbi_sec.add_phase( \"pa\",  \"0.006915\", \"       1    2.984010    1.505704    0.019628    0.001993    0.002589    0.033770    0.456416           0    0.000473\")\n",
    "rbi_sec.add_phase( \"bi\",  \"0.090237\", \"0.932353    2.842048    0.636750           0    1.244448    1.572357    0.500000           0    0.067647    0.021202\")\n",
    "rbi_sec.add_phase(\"ilm\",  \"0.004242\", \"       0           0           0           0    0.011126    1.032649           0           0    0.956225    0.043775\")\n",
    "rbi_sec.add_phase(  \"q\",  \"0.240992\", \"       0           1           0           0           0           0           0           0           0           0\")\n",
    "rbi_sec.add_phase(\"H2O\",  \"0.458826\", \"       1           0           0           0           0           0           0           0           0           0\")"
   ]
  },
  {
   "cell_type": "code",
   "execution_count": 11,
   "metadata": {},
   "outputs": [
    {
     "data": {
      "text/plain": [
       "               H2O       SiO2      Al2O3     CaO       MgO       FeO       K2O       Na2O      TiO2      O\n",
       "g    0.0       0.0       3.0       0.984049  0.230147  0.395429  2.406326  0.0       0.0       0.0       0.015951\n",
       "mu   0.159799  1.0       3.102219  1.39308   0.004483  0.058473  0.053149  0.386538  0.11122   0.0       0.00246\n",
       "pa   0.006915  1.0       2.98401   1.505704  0.019628  0.001993  0.002589  0.03377   0.456416  0.0       0.000473\n",
       "bi   0.090237  0.932353  2.842048  0.63675   0.0       1.244448  1.572357  0.5       0.0       0.067647  0.021202\n",
       "ilm  0.004242  0.0       0.0       0.0       0.0       0.011126  1.032649  0.0       0.0       0.956225  0.043775\n",
       "q    0.240992  0.0       1.0       0.0       0.0       0.0       0.0       0.0       0.0       0.0       0.0\n",
       "H2O  0.458826  1.0       0.0       0.0       0.0       0.0       0.0       0.0       0.0       0.0       0.0"
      ]
     },
     "execution_count": 11,
     "metadata": {},
     "output_type": "execute_result"
    }
   ],
   "source": [
    "# Let's have a look at the object\n",
    "rbi_sec"
   ]
  },
  {
   "cell_type": "code",
   "execution_count": 12,
   "metadata": {},
   "outputs": [
    {
     "data": {
      "text/plain": [
       "0.984049"
      ]
     },
     "execution_count": 12,
     "metadata": {},
     "output_type": "execute_result"
    }
   ],
   "source": [
    "# You can also access individual values directly\n",
    "rbi_sec[\"g\"][\"Al2O3\"]"
   ]
  },
  {
   "cell_type": "code",
   "execution_count": 13,
   "metadata": {},
   "outputs": [
    {
     "data": {
      "text/plain": [
       "0.9"
      ]
     },
     "execution_count": 13,
     "metadata": {},
     "output_type": "execute_result"
    }
   ],
   "source": [
    "# Values can also be modified\n",
    "rbi_sec[\"g\"][\"Al2O3\"] = 0.90\n",
    "# Print again to confirm:\n",
    "rbi_sec[\"g\"][\"Al2O3\"]"
   ]
  },
  {
   "cell_type": "code",
   "execution_count": 14,
   "metadata": {},
   "outputs": [],
   "source": [
    "# A point of subtlety... you may be noticed \n",
    "# above in the first instance we were returned\n",
    "# '0.984049' which is actually a string, and \n",
    "# in the second instance we were returned 0.9,\n",
    "# which is a float. Generally, you can use strings\n",
    "# and their equivalent float interchangeably."
   ]
  },
  {
   "cell_type": "code",
   "execution_count": 15,
   "metadata": {},
   "outputs": [],
   "source": [
    "# Let's set that value back now\n",
    "rbi_sec[\"g\"][\"Al2O3\"] = 0.984049"
   ]
  },
  {
   "cell_type": "code",
   "execution_count": 16,
   "metadata": {},
   "outputs": [],
   "source": [
    "# Ok, we have successfully created the `rbi` object, \n",
    "# but don't forget that it must be set on the `script` for\n",
    "# it to take effect:\n",
    "context.script[\"rbi\"] = rbi_sec"
   ]
  },
  {
   "cell_type": "code",
   "execution_count": 17,
   "metadata": {},
   "outputs": [],
   "source": [
    "# Now create xyzguess section.  \n",
    "# We use the `xyz` object this time. \n",
    "# It is really just a Python `OrderedDict`.\n",
    "# First create a dictionary to record values\n",
    "xyzguess = tc.xyz()\n",
    "# Now add values\n",
    "xyzguess[    \"x(g)\"] = \"0.885508\"\n",
    "xyzguess[    \"z(g)\"] = \"0.211255\"\n",
    "xyzguess[    \"f(g)\"] = \"0.070810\"\n",
    "xyzguess[   \"x(bi)\"] = \"0.579607\"\n",
    "xyzguess[   \"y(bi)\"] = \"0.140313\"\n",
    "xyzguess[   \"f(bi)\"] = \"0.126258\"\n",
    "xyzguess[   \"t(bi)\"] = \"0.072042\"\n",
    "xyzguess[   \"Q(bi)\"] = \"0.121282\"\n",
    "xyzguess[   \"x(mu)\"] = \"0.461998\"\n",
    "xyzguess[   \"y(mu)\"] = \"0.944788\"\n",
    "xyzguess[   \"f(mu)\"] = \"0.009495\"\n",
    "xyzguess[   \"n(mu)\"] = \"0.253509\"\n",
    "xyzguess[   \"c(mu)\"] = \"0.016160\"\n",
    "xyzguess[   \"x(pa)\"] = \"0.461998\"\n",
    "xyzguess[   \"y(pa)\"] = \"0.996868\"\n",
    "xyzguess[   \"f(pa)\"] = \"0.002376\"\n",
    "xyzguess[   \"n(pa)\"] = \"0.955475\"\n",
    "xyzguess[   \"c(pa)\"] = \"0.038175\"\n",
    "xyzguess[   \"x(ma)\"] = \"0.461998\"\n",
    "xyzguess[   \"y(ma)\"] = \"0.964236\"\n",
    "xyzguess[   \"f(ma)\"] = \"0.009701\"\n",
    "xyzguess[   \"n(ma)\"] = \"0.054672\"\n",
    "xyzguess[   \"c(ma)\"] = \"0.944410\"\n",
    "xyzguess[  \"x(chl)\"] = \"0.473331\"\n",
    "xyzguess[  \"y(chl)\"] = \"0.520964\"\n",
    "xyzguess[  \"f(chl)\"] = \"0.248348\"\n",
    "xyzguess[\"QAl(chl)\"] = \"0.230540  range -1.000 1.000\"\n",
    "xyzguess[ \"Q1(chl)\"] = \"0.077845  range -1.000 1.000\"\n",
    "xyzguess[ \"Q4(chl)\"] = \"0.092301  range -1.000 1.000\"\n",
    "xyzguess[   \"f(ep)\"] = \"0.264635\"\n",
    "xyzguess[   \"Q(ep)\"] = \"0.250072  range  0.000 0.500\"\n",
    "xyzguess[  \"i(ilm)\"] = \"0.829808\"\n",
    "xyzguess[  \"g(ilm)\"] = \"0.017481\"\n",
    "xyzguess[  \"Q(ilm)\"] = \"0.760053  range -0.990 0.990\"\n",
    "xyzguess[  \"x(mt1)\"] = \"0.762081\"\n",
    "xyzguess[  \"Q(mt1)\"] = \"0.808179\""
   ]
  },
  {
   "cell_type": "code",
   "execution_count": 18,
   "metadata": {},
   "outputs": [],
   "source": [
    "# Again, don't forget to set on the script:\n",
    "context.script[\"xyzguess\"] = xyzguess"
   ]
  },
  {
   "cell_type": "code",
   "execution_count": 19,
   "metadata": {},
   "outputs": [],
   "source": [
    "# Now we have a complete configuration, let's execute. \n",
    "results = context.execute()"
   ]
  },
  {
   "cell_type": "code",
   "execution_count": 20,
   "metadata": {},
   "outputs": [
    {
     "name": "stdout",
     "output_type": "stream",
     "text": [
      "THERMOCALC 3.50 (Free Pascal version)\n",
      "\n",
      "summary output in the file, \"tc-warfyh-o.txt\"\n",
      "other (eg drawpd) output in the file, \"tc-warfyh-dr.txt\"\n",
      "details of calc results in the file, \"tc-warfyh-ic.txt\"\n",
      "initial tables in the file, \"tc-warfyh-it.txt\"\n",
      "csv format in the file, \"tc-warfyh.csv\"\n",
      "more csv format in the file, \"tc-warfyh2.csv\"\n",
      "(these files may not all be populated yet, depending on the calcs;\n",
      " thermocalc should delete empty files at the end of each run)\n",
      "^^^^^^^^^^^^^^^^^^^^^^^^^^^^^^^^^^^^^^^^^^^^^^^^^^^^^^^^^^^^\n",
      "\n",
      "THERMOCALC 3.50 running at 14.30 on Wed 16 Dec,2020\n",
      "using tc-ds62.txt produced at 20.08 on Mon 6 Feb,2012\n",
      "with axfile tc-mb50NCKFMASHTO.txt and scriptfile tc-warfyh.txt\n",
      "\n",
      "reading ax: L hb aug dio opx g ol ksp plc pli sp ilm ilmm ep bi mu chl ru sph q \n",
      "            an ab H2O \n",
      "\n",
      "with: g ilmm bi mu pa chl ru sph q H2O  (from script)\n",
      "fluid is just H2O\n",
      "in excess: mu q H2O\n",
      "\n",
      "specification of xyz starting guesses of phases\n",
      "in the scriptfile: g bi mu pa chl; not in the scriptfile: ilmm\n",
      "\n",
      "specification of overall PT window:\n",
      "overall PT window is P: 2.0 to 20.0 kbar, and T: 400 to 1100íC (from script)\n",
      "\n",
      "running dogmin: max variance of equilibria looked at is 6-variant (from script#\n",
      "\n",
      "specification of PT calcs:\n",
      "P at which equilibria to be calculated: 11.000 kbar (from script)\n",
      "T at which equilibria to be calculated: 600.00íC (from script)\n",
      "\n",
      "specification of bulk composition\n",
      "composition (from rbi script)\n",
      "      H2O     SiO2    Al2O3      CaO      MgO      FeO      K2O     Na2O     T#\n",
      "  52.1705  36.9434   4.3466   0.0129   1.7707   2.4610   1.5886   0.3156   0.3#\n",
      "@\n",
      "##########################################################\n",
      "Gibbs energy minimisation gives the quadrivariant assemblage g ilmm bi mu pa r#\n",
      "with, in excess, mu q H2O, also trying assemblages involving chl sph\n",
      "\n",
      "   P(kbar)     T(íC)      x(g)      z(g)      f(g)   i(ilmm)   g(ilmm)   Q(ilm#\n",
      "   11.0000   600.000    0.8549   0.05086   0.01375    0.9545   0.02578    0.89#\n",
      "                         x(bi)     y(bi)     f(bi)     t(bi)     Q(bi)     x(m#\n",
      "                        0.5557    0.1175   0.04358   0.09186    0.1331    0.45#\n",
      "                         y(mu)     f(mu)     n(mu)     c(mu)     x(pa)     y(p#\n",
      "                        0.9016  0.004946    0.2279  0.004393    0.4552    0.99#\n",
      "                         f(pa)     n(pa)     c(pa)\n",
      "                     0.0009638    0.9120   0.01913\n",
      "\n",
      "mode         g      ilmm        bi        mu        pa        ru         q    #\n",
      "        0.0002    0.0037    0.0960    0.1645    0.0066    0.0001    0.2510    #\n",
      "\n",
      "Gibbs energy minimisation info at P = 11.00 kbar and T = 600.0íC, with, in exc#\n",
      "\n",
      "      g   ilmm     bi     pa    chl     ru    sph            G       del     n#\n",
      "      X      X      X      X      .      X      .   -646.25771   0.00000    23#\n",
      "\n",
      "assemblage modes for minimum G, and near minimum G, at P = 11.00 kbar and T = #\n",
      "\n",
      "    #       g    ilmm      bi      pa     chl      ru     sph  :      mu      #\n",
      "   71   0.000   0.004   0.096   0.007      -    0.000      -   :   0.165   0.2#\n",
      "   35   0.000   0.004   0.096   0.007      -       -       -   :   0.165   0.2#\n",
      "   15      -    0.004   0.096   0.007      -       -       -   :   0.165   0.2#\n",
      "    1   0.000   0.004   0.096      -       -       -       -   :   0.171   0.2#\n",
      "   46   0.003      -    0.100   0.007      -    0.002      -   :   0.160   0.2#\n",
      "    8   0.002      -    0.100      -       -    0.002      -   :   0.167   0.2#\n",
      "   65      -       -    0.102   0.007   0.001   0.002      -   :   0.159   0.2#\n",
      "   28      -       -    0.103      -    0.001   0.002      -   :   0.165   0.2#\n",
      "   26      -       -    0.105   0.006      -    0.002      -   :   0.157   0.2#\n",
      "    6   0.004      -    0.104   0.005      -       -       -   :   0.157   0.2#\n",
      "   25      -       -    0.106   0.004   0.003      -       -   :   0.156   0.2#\n",
      "   39   0.002   0.006      -    0.010   0.046      -       -   :   0.253   0.2#\n",
      "    3   0.002   0.006      -       -    0.046      -       -   :   0.263   0.2#\n",
      "   62      -    0.006      -    0.010   0.048      -    0.000  :   0.254   0.2#\n",
      "   19      -    0.006      -    0.010   0.048      -       -   :   0.254   0.2#\n",
      "   23      -    0.006      -       -    0.048      -    0.000  :   0.263   0.2#\n",
      "   51   0.004      -       -    0.010   0.051   0.003      -   :   0.253   0.2#\n",
      "   12   0.004      -       -       -    0.051   0.003      -   :   0.263   0.2#\n",
      "   69      -       -       -    0.010   0.055   0.003   0.000  :   0.253   0.2#\n",
      "   31      -       -       -    0.010   0.055   0.003      -   :   0.254   0.2#\n",
      "\n",
      "starting guesses (using the xyzguess script) are not provided for all the \n",
      "phases in the dogmin calculation. This is potentially dangerous: careful \n",
      "organisation of starting guesses is essential. Use the xyzguess blocks in the \n",
      "logfile from this or previous runs of dogmin. Several runs may be needed to \n",
      "get effective starting guesses for all phases. \n",
      "\n",
      "============================================================\n",
      "\n"
     ]
    }
   ],
   "source": [
    "context.print_output()"
   ]
  },
  {
   "cell_type": "code",
   "execution_count": 21,
   "metadata": {},
   "outputs": [
    {
     "name": "stdout",
     "output_type": "stream",
     "text": [
      "P\n",
      "T\n",
      "bulk_composition\n",
      "modes\n",
      "output_tc_ic\n",
      "phases\n",
      "rbi\n",
      "site_fractions\n",
      "thermodynamic_properties\n",
      "xyz\n"
     ]
    }
   ],
   "source": [
    "# Ok, we have a successful execution. \n",
    "# The resulting data is recorded in the returned\n",
    "# dictionary object.  Execute the `print_keys()` method\n",
    "# to see what is available. Note that keys prepended \n",
    "# with `output_` provide the raw output which may be useful \n",
    "# at times.\n",
    "results.print_keys()"
   ]
  },
  {
   "cell_type": "code",
   "execution_count": 22,
   "metadata": {},
   "outputs": [],
   "source": [
    "# Let's print the data. Note that most of the returned\n",
    "# data objects are based in Python dictionaries. \n",
    "# You can therefore (where appropriate) also access \n",
    "# values directly."
   ]
  },
  {
   "cell_type": "code",
   "execution_count": 23,
   "metadata": {},
   "outputs": [
    {
     "data": {
      "text/plain": [
       "11.0"
      ]
     },
     "execution_count": 23,
     "metadata": {},
     "output_type": "execute_result"
    }
   ],
   "source": [
    "results.P"
   ]
  },
  {
   "cell_type": "code",
   "execution_count": 24,
   "metadata": {
    "scrolled": false
   },
   "outputs": [
    {
     "data": {
      "text/plain": [
       "600.0"
      ]
     },
     "execution_count": 24,
     "metadata": {},
     "output_type": "execute_result"
    }
   ],
   "source": [
    "results.T"
   ]
  },
  {
   "cell_type": "code",
   "execution_count": 25,
   "metadata": {},
   "outputs": [
    {
     "data": {
      "text/plain": [
       "H2O    52.1705\n",
       "SiO2   36.9434\n",
       "Al2O3   4.3466\n",
       "CaO     0.0129\n",
       "MgO     1.7707\n",
       "FeO     2.461\n",
       "K2O     1.5886\n",
       "Na2O    0.3156\n",
       "TiO2    0.3454\n",
       "O       0.0455"
      ]
     },
     "execution_count": 25,
     "metadata": {},
     "output_type": "execute_result"
    }
   ],
   "source": [
    "results.bulk_composition"
   ]
  },
  {
   "cell_type": "code",
   "execution_count": 26,
   "metadata": {},
   "outputs": [
    {
     "data": {
      "text/plain": [
       "52.1705"
      ]
     },
     "execution_count": 26,
     "metadata": {},
     "output_type": "execute_result"
    }
   ],
   "source": [
    "results.bulk_composition[\"H2O\"]"
   ]
  },
  {
   "cell_type": "code",
   "execution_count": 27,
   "metadata": {},
   "outputs": [
    {
     "data": {
      "text/plain": [
       "g     0.0002\n",
       "ilmm  0.0037\n",
       "bi    0.096\n",
       "mu    0.1645\n",
       "pa    0.0066\n",
       "ru    0.0001\n",
       "q     0.251\n",
       "H2O   0.4778"
      ]
     },
     "execution_count": 27,
     "metadata": {},
     "output_type": "execute_result"
    }
   ],
   "source": [
    "results.modes"
   ]
  },
  {
   "cell_type": "code",
   "execution_count": 28,
   "metadata": {},
   "outputs": [
    {
     "data": {
      "text/plain": [
       "0.0002"
      ]
     },
     "execution_count": 28,
     "metadata": {},
     "output_type": "execute_result"
    }
   ],
   "source": [
    "results.modes[\"g\"]"
   ]
  },
  {
   "cell_type": "code",
   "execution_count": 29,
   "metadata": {},
   "outputs": [
    {
     "data": {
      "text/plain": [
       "'g ilmm bi pa ru (mu, q, fluid) or [chl,sph] #71'"
      ]
     },
     "execution_count": 29,
     "metadata": {},
     "output_type": "execute_result"
    }
   ],
   "source": [
    "results.phases"
   ]
  },
  {
   "cell_type": "code",
   "execution_count": 30,
   "metadata": {},
   "outputs": [
    {
     "data": {
      "text/plain": [
       "                H2O       SiO2      Al2O3     CaO       MgO       FeO       K2O       Na2O      TiO2      O\n",
       "g     0.00023   0.0       3.0       0.986249  0.152574  0.413022  2.461905  0.0       0.0       0.0       0.013751\n",
       "ilmm  0.003702  0.0       0.0       0.0       0.0       0.025779  1.019766  0.0       0.0       0.954455  0.045545\n",
       "bi    0.096041  0.908144  2.83887   0.639339  0.0       1.220537  1.570058  0.5       0.0       0.091856  0.021791\n",
       "mu    0.164535  1.0       3.094055  1.401276  0.004393  0.053634  0.049759  0.383851  0.113953  0.0       0.002473\n",
       "pa    0.006642  1.0       2.984245  1.505707  0.019132  0.00184   0.002501  0.034413  0.456021  0.0       0.000482\n",
       "ru    7.1e-05   0.0       0.0       0.0       0.0       0.0       0.0       0.0       0.0       1.0       0.0\n",
       "q     0.250991  0.0       1.0       0.0       0.0       0.0       0.0       0.0       0.0       0.0       0.0\n",
       "H2O   0.477788  1.0       0.0       0.0       0.0       0.0       0.0       0.0       0.0       0.0       0.0"
      ]
     },
     "execution_count": 30,
     "metadata": {},
     "output_type": "execute_result"
    }
   ],
   "source": [
    "results.rbi"
   ]
  },
  {
   "cell_type": "code",
   "execution_count": 31,
   "metadata": {},
   "outputs": [
    {
     "data": {
      "text/plain": [
       "0.004393"
      ]
     },
     "execution_count": 31,
     "metadata": {},
     "output_type": "execute_result"
    }
   ],
   "source": [
    "results.rbi[\"mu\"][\"CaO\"]"
   ]
  },
  {
   "cell_type": "code",
   "execution_count": 32,
   "metadata": {},
   "outputs": [
    {
     "data": {
      "text/plain": [
       "g     xMgX     xFeX     xCaX     xAlY     xFe3Y\n",
       "      0.13767  0.81147  0.05086  0.98625  0.01375\n",
       "ilmm  xFeA     xTiA     xMgA     xFe3A    xFeB     xTiB     xFe3B\n",
       "      0.90969  0.01898  0.02578  0.04554  0.01898  0.93547  0.04554\n",
       "bi    xMgM3    xFeM3    xFe3M3   xTiM3    xAlM3    xMgM12   xFeM12   xSiT     xAlT     xOHV     xOV\n",
       "      0.24316  0.50385  0.04358  0.09186  0.11755  0.48869  0.51131  0.41944  0.58056  0.90814  0.09186\n",
       "mu    xKA      xNaA     xCaA     xMgM2A   xFeM2A   xAlM2A   xAlM2B   xFe3M2B  xSiT1    xAlT1\n",
       "      0.76770  0.22791  0.00439  0.05363  0.04481  0.90155  0.99505  0.00495  0.54703  0.45297\n",
       "pa    xKA      xNaA     xCaA     xMgM2A   xFeM2A   xAlM2A   xAlM2B   xFe3M2B  xSiT1    xAlT1\n",
       "      0.06883  0.91204  0.01913  0.00184  0.00154  0.99662  0.99904  0.00096  0.49212  0.50788"
      ]
     },
     "execution_count": 32,
     "metadata": {},
     "output_type": "execute_result"
    }
   ],
   "source": [
    "results.site_fractions"
   ]
  },
  {
   "cell_type": "code",
   "execution_count": 33,
   "metadata": {},
   "outputs": [
    {
     "data": {
      "text/plain": [
       "'0.11755'"
      ]
     },
     "execution_count": 33,
     "metadata": {},
     "output_type": "execute_result"
    }
   ],
   "source": [
    "results.site_fractions[\"bi\"][\"xAlM3\"]"
   ]
  }
 ],
 "metadata": {
  "jupytext": {
   "formats": "ipynb,py:percent"
  },
  "kernelspec": {
   "display_name": "Python 3",
   "language": "python",
   "name": "python3"
  },
  "language_info": {
   "codemirror_mode": {
    "name": "ipython",
    "version": 3
   },
   "file_extension": ".py",
   "mimetype": "text/x-python",
   "name": "python",
   "nbconvert_exporter": "python",
   "pygments_lexer": "ipython3",
   "version": "3.8.5"
  }
 },
 "nbformat": 4,
 "nbformat_minor": 2
}
